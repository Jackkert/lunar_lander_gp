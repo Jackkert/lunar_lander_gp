{
 "cells": [
  {
   "cell_type": "markdown",
   "metadata": {},
   "source": [
    "# Evolving a Lunar Lander with differentiable Genetic Programming"
   ]
  },
  {
   "cell_type": "markdown",
   "metadata": {},
   "source": [
    "## Installation\n",
    "To install the required libraries run the command:"
   ]
  },
  {
   "cell_type": "code",
   "execution_count": 14,
   "metadata": {},
   "outputs": [
    {
     "name": "stdout",
     "output_type": "stream",
     "text": [
      "Requirement already satisfied: pygame==2.1.0 in /home/jackkert/.local/lib/python3.8/site-packages (from -r requirements.txt (line 1)) (2.1.0)\n",
      "Requirement already satisfied: pyglet==1.5.21 in /home/jackkert/.local/lib/python3.8/site-packages (from -r requirements.txt (line 2)) (1.5.21)\n",
      "Requirement already satisfied: matplotlib in /home/jackkert/.local/lib/python3.8/site-packages (from -r requirements.txt (line 3)) (3.7.5)\n",
      "Requirement already satisfied: numpy in /home/jackkert/.local/lib/python3.8/site-packages (from -r requirements.txt (line 4)) (1.21.2)\n",
      "Requirement already satisfied: scikit-learn in /home/jackkert/.local/lib/python3.8/site-packages (from -r requirements.txt (line 5)) (1.3.2)\n",
      "Requirement already satisfied: sympy>=1.9 in /home/jackkert/.local/lib/python3.8/site-packages (from -r requirements.txt (line 6)) (1.12)\n",
      "Requirement already satisfied: joblib>=1.1.0 in /home/jackkert/.local/lib/python3.8/site-packages (from -r requirements.txt (line 7)) (1.4.2)\n",
      "Requirement already satisfied: torch in /home/jackkert/.local/lib/python3.8/site-packages (from -r requirements.txt (line 8)) (2.3.0)\n",
      "Requirement already satisfied: notebook in /home/jackkert/.local/lib/python3.8/site-packages (from -r requirements.txt (line 9)) (7.2.0)\n",
      "Requirement already satisfied: swig in /home/jackkert/.local/lib/python3.8/site-packages (from -r requirements.txt (line 10)) (4.2.1)\n",
      "Requirement already satisfied: gymnasium[box2d] in /home/jackkert/.local/lib/python3.8/site-packages (from -r requirements.txt (line 11)) (0.29.1)\n",
      "Requirement already satisfied: fonttools>=4.22.0 in /home/jackkert/.local/lib/python3.8/site-packages (from matplotlib->-r requirements.txt (line 3)) (4.38.0)\n",
      "Requirement already satisfied: kiwisolver>=1.0.1 in /usr/lib/python3/dist-packages (from matplotlib->-r requirements.txt (line 3)) (1.0.1)\n",
      "Requirement already satisfied: cycler>=0.10 in /usr/lib/python3/dist-packages (from matplotlib->-r requirements.txt (line 3)) (0.10.0)\n",
      "Requirement already satisfied: contourpy>=1.0.1 in /home/jackkert/.local/lib/python3.8/site-packages (from matplotlib->-r requirements.txt (line 3)) (1.0.7)\n",
      "Requirement already satisfied: packaging>=20.0 in /home/jackkert/.local/lib/python3.8/site-packages (from matplotlib->-r requirements.txt (line 3)) (24.0)\n",
      "Requirement already satisfied: pyparsing>=2.3.1 in /usr/lib/python3/dist-packages (from matplotlib->-r requirements.txt (line 3)) (2.4.6)\n",
      "Requirement already satisfied: python-dateutil>=2.7 in /home/jackkert/.local/lib/python3.8/site-packages (from matplotlib->-r requirements.txt (line 3)) (2.9.0.post0)\n",
      "Requirement already satisfied: pillow>=6.2.0 in /home/jackkert/.local/lib/python3.8/site-packages (from matplotlib->-r requirements.txt (line 3)) (10.3.0)\n",
      "Requirement already satisfied: importlib-resources>=3.2.0; python_version < \"3.10\" in /home/jackkert/.local/lib/python3.8/site-packages (from matplotlib->-r requirements.txt (line 3)) (6.4.0)\n",
      "Requirement already satisfied: threadpoolctl>=2.0.0 in /home/jackkert/.local/lib/python3.8/site-packages (from scikit-learn->-r requirements.txt (line 5)) (3.5.0)\n",
      "Requirement already satisfied: scipy>=1.5.0 in /home/jackkert/.local/lib/python3.8/site-packages (from scikit-learn->-r requirements.txt (line 5)) (1.7.1)\n",
      "Requirement already satisfied: mpmath>=0.19 in /home/jackkert/.local/lib/python3.8/site-packages (from sympy>=1.9->-r requirements.txt (line 6)) (1.3.0)\n",
      "Requirement already satisfied: nvidia-nvtx-cu12==12.1.105; platform_system == \"Linux\" and platform_machine == \"x86_64\" in /home/jackkert/.local/lib/python3.8/site-packages (from torch->-r requirements.txt (line 8)) (12.1.105)\n",
      "Requirement already satisfied: nvidia-curand-cu12==10.3.2.106; platform_system == \"Linux\" and platform_machine == \"x86_64\" in /home/jackkert/.local/lib/python3.8/site-packages (from torch->-r requirements.txt (line 8)) (10.3.2.106)\n",
      "Requirement already satisfied: nvidia-cudnn-cu12==8.9.2.26; platform_system == \"Linux\" and platform_machine == \"x86_64\" in /home/jackkert/.local/lib/python3.8/site-packages (from torch->-r requirements.txt (line 8)) (8.9.2.26)\n",
      "Requirement already satisfied: nvidia-cufft-cu12==11.0.2.54; platform_system == \"Linux\" and platform_machine == \"x86_64\" in /home/jackkert/.local/lib/python3.8/site-packages (from torch->-r requirements.txt (line 8)) (11.0.2.54)\n",
      "Requirement already satisfied: networkx in /home/jackkert/.local/lib/python3.8/site-packages (from torch->-r requirements.txt (line 8)) (3.1)\n",
      "Requirement already satisfied: nvidia-nccl-cu12==2.20.5; platform_system == \"Linux\" and platform_machine == \"x86_64\" in /home/jackkert/.local/lib/python3.8/site-packages (from torch->-r requirements.txt (line 8)) (2.20.5)\n",
      "Requirement already satisfied: filelock in /usr/lib/python3/dist-packages (from torch->-r requirements.txt (line 8)) (3.0.12)\n",
      "Requirement already satisfied: nvidia-cusparse-cu12==12.1.0.106; platform_system == \"Linux\" and platform_machine == \"x86_64\" in /home/jackkert/.local/lib/python3.8/site-packages (from torch->-r requirements.txt (line 8)) (12.1.0.106)\n",
      "Requirement already satisfied: triton==2.3.0; platform_system == \"Linux\" and platform_machine == \"x86_64\" and python_version < \"3.12\" in /home/jackkert/.local/lib/python3.8/site-packages (from torch->-r requirements.txt (line 8)) (2.3.0)\n",
      "Requirement already satisfied: nvidia-cublas-cu12==12.1.3.1; platform_system == \"Linux\" and platform_machine == \"x86_64\" in /home/jackkert/.local/lib/python3.8/site-packages (from torch->-r requirements.txt (line 8)) (12.1.3.1)\n",
      "Requirement already satisfied: typing-extensions>=4.8.0 in /home/jackkert/.local/lib/python3.8/site-packages (from torch->-r requirements.txt (line 8)) (4.11.0)\n",
      "Requirement already satisfied: nvidia-cuda-nvrtc-cu12==12.1.105; platform_system == \"Linux\" and platform_machine == \"x86_64\" in /home/jackkert/.local/lib/python3.8/site-packages (from torch->-r requirements.txt (line 8)) (12.1.105)\n",
      "Requirement already satisfied: nvidia-cuda-runtime-cu12==12.1.105; platform_system == \"Linux\" and platform_machine == \"x86_64\" in /home/jackkert/.local/lib/python3.8/site-packages (from torch->-r requirements.txt (line 8)) (12.1.105)\n",
      "Requirement already satisfied: jinja2 in /home/jackkert/.local/lib/python3.8/site-packages (from torch->-r requirements.txt (line 8)) (3.1.2)\n",
      "Requirement already satisfied: nvidia-cusolver-cu12==11.4.5.107; platform_system == \"Linux\" and platform_machine == \"x86_64\" in /home/jackkert/.local/lib/python3.8/site-packages (from torch->-r requirements.txt (line 8)) (11.4.5.107)\n",
      "Requirement already satisfied: fsspec in /home/jackkert/.local/lib/python3.8/site-packages (from torch->-r requirements.txt (line 8)) (2024.5.0)\n",
      "Requirement already satisfied: nvidia-cuda-cupti-cu12==12.1.105; platform_system == \"Linux\" and platform_machine == \"x86_64\" in /home/jackkert/.local/lib/python3.8/site-packages (from torch->-r requirements.txt (line 8)) (12.1.105)\n",
      "Requirement already satisfied: jupyterlab<4.3,>=4.2.0 in /home/jackkert/.local/lib/python3.8/site-packages (from notebook->-r requirements.txt (line 9)) (4.2.1)\n",
      "Requirement already satisfied: tornado>=6.2.0 in /home/jackkert/.local/lib/python3.8/site-packages (from notebook->-r requirements.txt (line 9)) (6.4)\n",
      "Requirement already satisfied: jupyterlab-server<3,>=2.27.1 in /home/jackkert/.local/lib/python3.8/site-packages (from notebook->-r requirements.txt (line 9)) (2.27.2)\n",
      "Requirement already satisfied: jupyter-server<3,>=2.4.0 in /home/jackkert/.local/lib/python3.8/site-packages (from notebook->-r requirements.txt (line 9)) (2.14.0)\n",
      "Requirement already satisfied: notebook-shim<0.3,>=0.2 in /home/jackkert/.local/lib/python3.8/site-packages (from notebook->-r requirements.txt (line 9)) (0.2.4)\n",
      "Requirement already satisfied: farama-notifications>=0.0.1 in /home/jackkert/.local/lib/python3.8/site-packages (from gymnasium[box2d]->-r requirements.txt (line 11)) (0.0.4)\n",
      "Requirement already satisfied: cloudpickle>=1.2.0 in /home/jackkert/.local/lib/python3.8/site-packages (from gymnasium[box2d]->-r requirements.txt (line 11)) (3.0.0)\n",
      "Requirement already satisfied: importlib-metadata>=4.8.0; python_version < \"3.10\" in /home/jackkert/.local/lib/python3.8/site-packages (from gymnasium[box2d]->-r requirements.txt (line 11)) (5.1.0)\n",
      "Requirement already satisfied: box2d-py==2.3.5; extra == \"box2d\" in /home/jackkert/.local/lib/python3.8/site-packages (from gymnasium[box2d]->-r requirements.txt (line 11)) (2.3.5)\n",
      "Requirement already satisfied: six>=1.5 in /usr/lib/python3/dist-packages (from python-dateutil>=2.7->matplotlib->-r requirements.txt (line 3)) (1.14.0)\n",
      "Requirement already satisfied: zipp>=3.1.0; python_version < \"3.10\" in /home/jackkert/.local/lib/python3.8/site-packages (from importlib-resources>=3.2.0; python_version < \"3.10\"->matplotlib->-r requirements.txt (line 3)) (3.19.0)\n",
      "Requirement already satisfied: nvidia-nvjitlink-cu12 in /home/jackkert/.local/lib/python3.8/site-packages (from nvidia-cusparse-cu12==12.1.0.106; platform_system == \"Linux\" and platform_machine == \"x86_64\"->torch->-r requirements.txt (line 8)) (12.5.40)\n",
      "Requirement already satisfied: MarkupSafe>=2.0 in /home/jackkert/.local/lib/python3.8/site-packages (from jinja2->torch->-r requirements.txt (line 8)) (2.1.1)\n",
      "Requirement already satisfied: jupyter-lsp>=2.0.0 in /home/jackkert/.local/lib/python3.8/site-packages (from jupyterlab<4.3,>=4.2.0->notebook->-r requirements.txt (line 9)) (2.2.5)\n",
      "Requirement already satisfied: ipykernel>=6.5.0 in /home/jackkert/.local/lib/python3.8/site-packages (from jupyterlab<4.3,>=4.2.0->notebook->-r requirements.txt (line 9)) (6.29.4)\n",
      "Requirement already satisfied: tomli>=1.2.2; python_version < \"3.11\" in /home/jackkert/.local/lib/python3.8/site-packages (from jupyterlab<4.3,>=4.2.0->notebook->-r requirements.txt (line 9)) (2.0.1)\n",
      "Requirement already satisfied: async-lru>=1.0.0 in /home/jackkert/.local/lib/python3.8/site-packages (from jupyterlab<4.3,>=4.2.0->notebook->-r requirements.txt (line 9)) (2.0.4)\n",
      "Requirement already satisfied: httpx>=0.25.0 in /home/jackkert/.local/lib/python3.8/site-packages (from jupyterlab<4.3,>=4.2.0->notebook->-r requirements.txt (line 9)) (0.27.0)\n",
      "Requirement already satisfied: jupyter-core in /home/jackkert/.local/lib/python3.8/site-packages (from jupyterlab<4.3,>=4.2.0->notebook->-r requirements.txt (line 9)) (5.7.2)\n",
      "Requirement already satisfied: traitlets in /home/jackkert/.local/lib/python3.8/site-packages (from jupyterlab<4.3,>=4.2.0->notebook->-r requirements.txt (line 9)) (5.14.3)\n",
      "Requirement already satisfied: json5>=0.9.0 in /home/jackkert/.local/lib/python3.8/site-packages (from jupyterlab-server<3,>=2.27.1->notebook->-r requirements.txt (line 9)) (0.9.25)\n",
      "Requirement already satisfied: jsonschema>=4.18.0 in /home/jackkert/.local/lib/python3.8/site-packages (from jupyterlab-server<3,>=2.27.1->notebook->-r requirements.txt (line 9)) (4.22.0)\n",
      "Requirement already satisfied: requests>=2.31 in /home/jackkert/.local/lib/python3.8/site-packages (from jupyterlab-server<3,>=2.27.1->notebook->-r requirements.txt (line 9)) (2.32.2)\n",
      "Requirement already satisfied: babel>=2.10 in /home/jackkert/.local/lib/python3.8/site-packages (from jupyterlab-server<3,>=2.27.1->notebook->-r requirements.txt (line 9)) (2.15.0)\n",
      "Requirement already satisfied: argon2-cffi>=21.1 in /home/jackkert/.local/lib/python3.8/site-packages (from jupyter-server<3,>=2.4.0->notebook->-r requirements.txt (line 9)) (23.1.0)\n",
      "Requirement already satisfied: anyio>=3.1.0 in /home/jackkert/.local/lib/python3.8/site-packages (from jupyter-server<3,>=2.4.0->notebook->-r requirements.txt (line 9)) (4.3.0)\n",
      "Requirement already satisfied: jupyter-events>=0.9.0 in /home/jackkert/.local/lib/python3.8/site-packages (from jupyter-server<3,>=2.4.0->notebook->-r requirements.txt (line 9)) (0.10.0)\n",
      "Requirement already satisfied: overrides>=5.0 in /home/jackkert/.local/lib/python3.8/site-packages (from jupyter-server<3,>=2.4.0->notebook->-r requirements.txt (line 9)) (7.7.0)\n",
      "Requirement already satisfied: nbformat>=5.3.0 in /home/jackkert/.local/lib/python3.8/site-packages (from jupyter-server<3,>=2.4.0->notebook->-r requirements.txt (line 9)) (5.10.4)\n",
      "Requirement already satisfied: send2trash>=1.8.2 in /home/jackkert/.local/lib/python3.8/site-packages (from jupyter-server<3,>=2.4.0->notebook->-r requirements.txt (line 9)) (1.8.3)\n",
      "Requirement already satisfied: nbconvert>=6.4.4 in /home/jackkert/.local/lib/python3.8/site-packages (from jupyter-server<3,>=2.4.0->notebook->-r requirements.txt (line 9)) (7.16.4)\n",
      "Requirement already satisfied: jupyter-client>=7.4.4 in /home/jackkert/.local/lib/python3.8/site-packages (from jupyter-server<3,>=2.4.0->notebook->-r requirements.txt (line 9)) (8.6.2)\n",
      "Requirement already satisfied: prometheus-client>=0.9 in /home/jackkert/.local/lib/python3.8/site-packages (from jupyter-server<3,>=2.4.0->notebook->-r requirements.txt (line 9)) (0.20.0)\n",
      "Requirement already satisfied: pyzmq>=24 in /home/jackkert/.local/lib/python3.8/site-packages (from jupyter-server<3,>=2.4.0->notebook->-r requirements.txt (line 9)) (26.0.3)\n",
      "Requirement already satisfied: jupyter-server-terminals>=0.4.4 in /home/jackkert/.local/lib/python3.8/site-packages (from jupyter-server<3,>=2.4.0->notebook->-r requirements.txt (line 9)) (0.5.3)\n",
      "Requirement already satisfied: terminado>=0.8.3 in /home/jackkert/.local/lib/python3.8/site-packages (from jupyter-server<3,>=2.4.0->notebook->-r requirements.txt (line 9)) (0.18.1)\n",
      "Requirement already satisfied: websocket-client>=1.7 in /home/jackkert/.local/lib/python3.8/site-packages (from jupyter-server<3,>=2.4.0->notebook->-r requirements.txt (line 9)) (1.8.0)\n",
      "Requirement already satisfied: nest-asyncio in /home/jackkert/.local/lib/python3.8/site-packages (from ipykernel>=6.5.0->jupyterlab<4.3,>=4.2.0->notebook->-r requirements.txt (line 9)) (1.6.0)\n",
      "Requirement already satisfied: debugpy>=1.6.5 in /home/jackkert/.local/lib/python3.8/site-packages (from ipykernel>=6.5.0->jupyterlab<4.3,>=4.2.0->notebook->-r requirements.txt (line 9)) (1.8.1)\n",
      "Requirement already satisfied: psutil in /usr/lib/python3/dist-packages (from ipykernel>=6.5.0->jupyterlab<4.3,>=4.2.0->notebook->-r requirements.txt (line 9)) (5.5.1)\n",
      "Requirement already satisfied: matplotlib-inline>=0.1 in /home/jackkert/.local/lib/python3.8/site-packages (from ipykernel>=6.5.0->jupyterlab<4.3,>=4.2.0->notebook->-r requirements.txt (line 9)) (0.1.7)\n",
      "Requirement already satisfied: comm>=0.1.1 in /home/jackkert/.local/lib/python3.8/site-packages (from ipykernel>=6.5.0->jupyterlab<4.3,>=4.2.0->notebook->-r requirements.txt (line 9)) (0.2.2)\n",
      "Requirement already satisfied: ipython>=7.23.1 in /home/jackkert/.local/lib/python3.8/site-packages (from ipykernel>=6.5.0->jupyterlab<4.3,>=4.2.0->notebook->-r requirements.txt (line 9)) (8.12.3)\n",
      "Requirement already satisfied: httpcore==1.* in /home/jackkert/.local/lib/python3.8/site-packages (from httpx>=0.25.0->jupyterlab<4.3,>=4.2.0->notebook->-r requirements.txt (line 9)) (1.0.5)\n",
      "Requirement already satisfied: sniffio in /home/jackkert/.local/lib/python3.8/site-packages (from httpx>=0.25.0->jupyterlab<4.3,>=4.2.0->notebook->-r requirements.txt (line 9)) (1.3.1)\n",
      "Requirement already satisfied: certifi in /usr/lib/python3/dist-packages (from httpx>=0.25.0->jupyterlab<4.3,>=4.2.0->notebook->-r requirements.txt (line 9)) (2019.11.28)\n",
      "Requirement already satisfied: idna in /usr/lib/python3/dist-packages (from httpx>=0.25.0->jupyterlab<4.3,>=4.2.0->notebook->-r requirements.txt (line 9)) (2.8)\n",
      "Requirement already satisfied: platformdirs>=2.5 in /home/jackkert/.local/lib/python3.8/site-packages (from jupyter-core->jupyterlab<4.3,>=4.2.0->notebook->-r requirements.txt (line 9)) (4.2.2)\n",
      "Requirement already satisfied: attrs>=22.2.0 in /home/jackkert/.local/lib/python3.8/site-packages (from jsonschema>=4.18.0->jupyterlab-server<3,>=2.27.1->notebook->-r requirements.txt (line 9)) (23.2.0)\n",
      "Requirement already satisfied: jsonschema-specifications>=2023.03.6 in /home/jackkert/.local/lib/python3.8/site-packages (from jsonschema>=4.18.0->jupyterlab-server<3,>=2.27.1->notebook->-r requirements.txt (line 9)) (2023.12.1)\n",
      "Requirement already satisfied: pkgutil-resolve-name>=1.3.10; python_version < \"3.9\" in /home/jackkert/.local/lib/python3.8/site-packages (from jsonschema>=4.18.0->jupyterlab-server<3,>=2.27.1->notebook->-r requirements.txt (line 9)) (1.3.10)\n",
      "Requirement already satisfied: rpds-py>=0.7.1 in /home/jackkert/.local/lib/python3.8/site-packages (from jsonschema>=4.18.0->jupyterlab-server<3,>=2.27.1->notebook->-r requirements.txt (line 9)) (0.18.1)\n",
      "Requirement already satisfied: referencing>=0.28.4 in /home/jackkert/.local/lib/python3.8/site-packages (from jsonschema>=4.18.0->jupyterlab-server<3,>=2.27.1->notebook->-r requirements.txt (line 9)) (0.35.1)\n",
      "Requirement already satisfied: urllib3<3,>=1.21.1 in /usr/lib/python3/dist-packages (from requests>=2.31->jupyterlab-server<3,>=2.27.1->notebook->-r requirements.txt (line 9)) (1.25.8)\n",
      "Requirement already satisfied: charset-normalizer<4,>=2 in /home/jackkert/.local/lib/python3.8/site-packages (from requests>=2.31->jupyterlab-server<3,>=2.27.1->notebook->-r requirements.txt (line 9)) (3.3.2)\n",
      "Requirement already satisfied: pytz>=2015.7; python_version < \"3.9\" in /home/jackkert/.local/lib/python3.8/site-packages (from babel>=2.10->jupyterlab-server<3,>=2.27.1->notebook->-r requirements.txt (line 9)) (2024.1)\n",
      "Requirement already satisfied: argon2-cffi-bindings in /home/jackkert/.local/lib/python3.8/site-packages (from argon2-cffi>=21.1->jupyter-server<3,>=2.4.0->notebook->-r requirements.txt (line 9)) (21.2.0)\n",
      "Requirement already satisfied: exceptiongroup>=1.0.2; python_version < \"3.11\" in /home/jackkert/.local/lib/python3.8/site-packages (from anyio>=3.1.0->jupyter-server<3,>=2.4.0->notebook->-r requirements.txt (line 9)) (1.2.1)\n",
      "Requirement already satisfied: rfc3339-validator in /home/jackkert/.local/lib/python3.8/site-packages (from jupyter-events>=0.9.0->jupyter-server<3,>=2.4.0->notebook->-r requirements.txt (line 9)) (0.1.4)\n",
      "Requirement already satisfied: python-json-logger>=2.0.4 in /home/jackkert/.local/lib/python3.8/site-packages (from jupyter-events>=0.9.0->jupyter-server<3,>=2.4.0->notebook->-r requirements.txt (line 9)) (2.0.7)\n",
      "Requirement already satisfied: rfc3986-validator>=0.1.1 in /home/jackkert/.local/lib/python3.8/site-packages (from jupyter-events>=0.9.0->jupyter-server<3,>=2.4.0->notebook->-r requirements.txt (line 9)) (0.1.1)\n",
      "Requirement already satisfied: pyyaml>=5.3 in /usr/lib/python3/dist-packages (from jupyter-events>=0.9.0->jupyter-server<3,>=2.4.0->notebook->-r requirements.txt (line 9)) (5.3.1)\n",
      "Requirement already satisfied: fastjsonschema>=2.15 in /home/jackkert/.local/lib/python3.8/site-packages (from nbformat>=5.3.0->jupyter-server<3,>=2.4.0->notebook->-r requirements.txt (line 9)) (2.19.1)\n",
      "Requirement already satisfied: tinycss2 in /home/jackkert/.local/lib/python3.8/site-packages (from nbconvert>=6.4.4->jupyter-server<3,>=2.4.0->notebook->-r requirements.txt (line 9)) (1.3.0)\n",
      "Requirement already satisfied: nbclient>=0.5.0 in /home/jackkert/.local/lib/python3.8/site-packages (from nbconvert>=6.4.4->jupyter-server<3,>=2.4.0->notebook->-r requirements.txt (line 9)) (0.10.0)\n",
      "Requirement already satisfied: bleach!=5.0.0 in /home/jackkert/.local/lib/python3.8/site-packages (from nbconvert>=6.4.4->jupyter-server<3,>=2.4.0->notebook->-r requirements.txt (line 9)) (6.1.0)\n",
      "Requirement already satisfied: jupyterlab-pygments in /home/jackkert/.local/lib/python3.8/site-packages (from nbconvert>=6.4.4->jupyter-server<3,>=2.4.0->notebook->-r requirements.txt (line 9)) (0.3.0)\n",
      "Requirement already satisfied: beautifulsoup4 in /usr/lib/python3/dist-packages (from nbconvert>=6.4.4->jupyter-server<3,>=2.4.0->notebook->-r requirements.txt (line 9)) (4.8.2)\n",
      "Requirement already satisfied: defusedxml in /usr/lib/python3/dist-packages (from nbconvert>=6.4.4->jupyter-server<3,>=2.4.0->notebook->-r requirements.txt (line 9)) (0.6.0)\n",
      "Requirement already satisfied: pandocfilters>=1.4.1 in /home/jackkert/.local/lib/python3.8/site-packages (from nbconvert>=6.4.4->jupyter-server<3,>=2.4.0->notebook->-r requirements.txt (line 9)) (1.5.1)\n",
      "Requirement already satisfied: mistune<4,>=2.0.3 in /home/jackkert/.local/lib/python3.8/site-packages (from nbconvert>=6.4.4->jupyter-server<3,>=2.4.0->notebook->-r requirements.txt (line 9)) (3.0.2)\n",
      "Requirement already satisfied: pygments>=2.4.1 in /home/jackkert/.local/lib/python3.8/site-packages (from nbconvert>=6.4.4->jupyter-server<3,>=2.4.0->notebook->-r requirements.txt (line 9)) (2.18.0)\n",
      "Requirement already satisfied: ptyprocess; os_name != \"nt\" in /home/jackkert/.local/lib/python3.8/site-packages (from terminado>=0.8.3->jupyter-server<3,>=2.4.0->notebook->-r requirements.txt (line 9)) (0.7.0)\n",
      "Requirement already satisfied: backcall in /home/jackkert/.local/lib/python3.8/site-packages (from ipython>=7.23.1->ipykernel>=6.5.0->jupyterlab<4.3,>=4.2.0->notebook->-r requirements.txt (line 9)) (0.2.0)\n",
      "Requirement already satisfied: pickleshare in /home/jackkert/.local/lib/python3.8/site-packages (from ipython>=7.23.1->ipykernel>=6.5.0->jupyterlab<4.3,>=4.2.0->notebook->-r requirements.txt (line 9)) (0.7.5)\n",
      "Requirement already satisfied: stack-data in /home/jackkert/.local/lib/python3.8/site-packages (from ipython>=7.23.1->ipykernel>=6.5.0->jupyterlab<4.3,>=4.2.0->notebook->-r requirements.txt (line 9)) (0.6.3)\n",
      "Requirement already satisfied: decorator in /home/jackkert/.local/lib/python3.8/site-packages (from ipython>=7.23.1->ipykernel>=6.5.0->jupyterlab<4.3,>=4.2.0->notebook->-r requirements.txt (line 9)) (5.1.1)\n",
      "Requirement already satisfied: pexpect>4.3; sys_platform != \"win32\" in /usr/lib/python3/dist-packages (from ipython>=7.23.1->ipykernel>=6.5.0->jupyterlab<4.3,>=4.2.0->notebook->-r requirements.txt (line 9)) (4.6.0)\n",
      "Requirement already satisfied: jedi>=0.16 in /home/jackkert/.local/lib/python3.8/site-packages (from ipython>=7.23.1->ipykernel>=6.5.0->jupyterlab<4.3,>=4.2.0->notebook->-r requirements.txt (line 9)) (0.19.1)\n",
      "Requirement already satisfied: prompt-toolkit!=3.0.37,<3.1.0,>=3.0.30 in /home/jackkert/.local/lib/python3.8/site-packages (from ipython>=7.23.1->ipykernel>=6.5.0->jupyterlab<4.3,>=4.2.0->notebook->-r requirements.txt (line 9)) (3.0.43)\n",
      "Requirement already satisfied: h11<0.15,>=0.13 in /home/jackkert/.local/lib/python3.8/site-packages (from httpcore==1.*->httpx>=0.25.0->jupyterlab<4.3,>=4.2.0->notebook->-r requirements.txt (line 9)) (0.14.0)\n",
      "Requirement already satisfied: cffi>=1.0.1 in /home/jackkert/.local/lib/python3.8/site-packages (from argon2-cffi-bindings->argon2-cffi>=21.1->jupyter-server<3,>=2.4.0->notebook->-r requirements.txt (line 9)) (1.16.0)\n",
      "Requirement already satisfied: webencodings>=0.4 in /usr/lib/python3/dist-packages (from tinycss2->nbconvert>=6.4.4->jupyter-server<3,>=2.4.0->notebook->-r requirements.txt (line 9)) (0.5.1)\n",
      "Requirement already satisfied: asttokens>=2.1.0 in /home/jackkert/.local/lib/python3.8/site-packages (from stack-data->ipython>=7.23.1->ipykernel>=6.5.0->jupyterlab<4.3,>=4.2.0->notebook->-r requirements.txt (line 9)) (2.4.1)\n",
      "Requirement already satisfied: pure-eval in /home/jackkert/.local/lib/python3.8/site-packages (from stack-data->ipython>=7.23.1->ipykernel>=6.5.0->jupyterlab<4.3,>=4.2.0->notebook->-r requirements.txt (line 9)) (0.2.2)\n",
      "Requirement already satisfied: executing>=1.2.0 in /home/jackkert/.local/lib/python3.8/site-packages (from stack-data->ipython>=7.23.1->ipykernel>=6.5.0->jupyterlab<4.3,>=4.2.0->notebook->-r requirements.txt (line 9)) (2.0.1)\n",
      "Requirement already satisfied: parso<0.9.0,>=0.8.3 in /home/jackkert/.local/lib/python3.8/site-packages (from jedi>=0.16->ipython>=7.23.1->ipykernel>=6.5.0->jupyterlab<4.3,>=4.2.0->notebook->-r requirements.txt (line 9)) (0.8.4)\n",
      "Requirement already satisfied: wcwidth in /usr/lib/python3/dist-packages (from prompt-toolkit!=3.0.37,<3.1.0,>=3.0.30->ipython>=7.23.1->ipykernel>=6.5.0->jupyterlab<4.3,>=4.2.0->notebook->-r requirements.txt (line 9)) (0.1.8)\n",
      "Requirement already satisfied: pycparser in /home/jackkert/.local/lib/python3.8/site-packages (from cffi>=1.0.1->argon2-cffi-bindings->argon2-cffi>=21.1->jupyter-server<3,>=2.4.0->notebook->-r requirements.txt (line 9)) (2.22)\n"
     ]
    }
   ],
   "source": [
    "!pip install -r requirements.txt"
   ]
  },
  {
   "cell_type": "markdown",
   "metadata": {},
   "source": [
    "## Imports\n",
    "Imports from the standard genepro-multi library are done here. Any adjustments (e.g. different operators) should be made in the notebook. For example:\n",
    "\n",
    "```\n",
    "class SmoothOperator(Node):\n",
    "  def __init__(self):\n",
    "    super(SmoothOperator,self).__init__()\n",
    "    self.arity = 1\n",
    "    self.symb = \"SmoothOperator\"\n",
    "\n",
    "  def _get_args_repr(self, args):\n",
    "    return self._get_typical_repr(args,'before')\n",
    "\n",
    "  def get_output(self, X):\n",
    "    c_outs = self._get_child_outputs(X)\n",
    "    return np.smoothOperation(c_outs[0])\n",
    "\n",
    "  def get_output_pt(self, X):\n",
    "    c_outs = self._get_child_outputs_pt(X)\n",
    "    return torch.smoothOperation(c_outs[0])\n",
    "```"
   ]
  },
  {
   "cell_type": "code",
   "execution_count": 15,
   "metadata": {},
   "outputs": [],
   "source": [
    "import gymnasium as gym\n",
    "\n",
    "from genepro.node_impl import *\n",
    "from genepro.evo import Evolution\n",
    "from genepro.node_impl import Constant\n",
    "\n",
    "import torch\n",
    "import torch.optim as optim\n",
    "\n",
    "import random\n",
    "import os\n",
    "import copy\n",
    "from collections import namedtuple, deque\n",
    "\n",
    "import matplotlib.pyplot as plt\n",
    "from matplotlib import animation"
   ]
  },
  {
   "cell_type": "markdown",
   "metadata": {},
   "source": [
    "## Reinforcement Learning Setup\n",
    "Here we first setup the Gymnasium environment. Please see https://gymnasium.farama.org/environments/box2d/lunar_lander/ for more information on the environment. \n",
    "\n",
    "Then a memory buffer is made. This is a buffer in which state transitions are stored. When the buffer reaches its maximum capacity old transitions are replaced by new ones.\n",
    "\n",
    "A frame buffer is initialised used to later store animation frames of the environment."
   ]
  },
  {
   "cell_type": "code",
   "execution_count": 16,
   "metadata": {},
   "outputs": [],
   "source": [
    "env = gym.make(\"LunarLander-v2\", render_mode=\"rgb_array\")"
   ]
  },
  {
   "cell_type": "code",
   "execution_count": 17,
   "metadata": {},
   "outputs": [],
   "source": [
    "Transition = namedtuple('Transition', ('state', 'action', 'next_state', 'reward'))\n",
    "\n",
    "class ReplayMemory(object):\n",
    "    def __init__(self, capacity):\n",
    "        self.memory = deque([], maxlen=capacity)\n",
    "\n",
    "    def push(self, *args):\n",
    "        \"\"\"Save a transition\"\"\"\n",
    "        self.memory.append(Transition(*args))\n",
    "\n",
    "    def sample(self, batch_size):\n",
    "        return random.sample(self.memory, batch_size)\n",
    "\n",
    "    def __len__(self):\n",
    "        return len(self.memory)\n",
    "\n",
    "    def __iadd__(self, other):\n",
    "      self.memory += other.memory\n",
    "      return self \n",
    "\n",
    "    def __add__(self, other):\n",
    "      self.memory = self.memory + other.memory \n",
    "      return self"
   ]
  },
  {
   "cell_type": "code",
   "execution_count": 18,
   "metadata": {},
   "outputs": [],
   "source": [
    "frames = []"
   ]
  },
  {
   "cell_type": "markdown",
   "metadata": {},
   "source": [
    "## Fitness Function\n",
    "\n",
    "Here you get to be creative. The default setup evaluates 5 episodes of 300 frames. Think of what action to pick and what fitness function to use. The Multi-tree takes an input of $n \\times d$ where $n$ is a batch of size 1."
   ]
  },
  {
   "cell_type": "code",
   "execution_count": 50,
   "metadata": {},
   "outputs": [],
   "source": [
    "def fitness_function_pt(multitree, num_episodes=5, episode_duration=300, render=False, ignore_done=False):\n",
    "  memory = ReplayMemory(10000)\n",
    "  rewards = []\n",
    "\n",
    "  for _ in range(num_episodes):\n",
    "    # get initial state of the environment\n",
    "    observation = env.reset()\n",
    "    observation = observation[0]\n",
    "    \n",
    "    for _ in range(episode_duration):\n",
    "      if render:\n",
    "        frames.append(env.render())\n",
    "\n",
    "      input_sample = torch.from_numpy(observation.reshape((1,-1))).float()\n",
    "      \n",
    "      action = torch.argmax(multitree.get_output_pt(input_sample))\n",
    "      observation, reward, terminated, truncated, info = env.step(action.item())\n",
    "      rewards.append(reward)\n",
    "      output_sample = torch.from_numpy(observation.reshape((1,-1))).float()\n",
    "      memory.push(input_sample, torch.tensor([[action.item()]]), output_sample, torch.tensor([reward]))\n",
    "      if (terminated or truncated) and not ignore_done:\n",
    "        break\n",
    "\n",
    "  fitness = np.sum(rewards) / num_episodes\n",
    "  \n",
    "  return fitness, memory"
   ]
  },
  {
   "cell_type": "markdown",
   "metadata": {},
   "source": [
    "## Evolution Setup\n",
    "Here the leaf and internal nodes are defined. Think about the odds of sampling a constant in this default configurations. Also think about any operators that could be useful and add them here. \n",
    "\n",
    "Adjust the population size (multiple of 8 if you want to use the standard tournament selection), max generations and max tree size to taste. Be aware that each of these settings can increase the runtime."
   ]
  },
  {
   "cell_type": "code",
   "execution_count": 78,
   "metadata": {},
   "outputs": [],
   "source": [
    "num_features = env.observation_space.shape[0]\n",
    "leaf_nodes = [Feature(i) for i in range(num_features)]\n",
    "leaf_nodes = leaf_nodes + [Constant()] # Think about the probability of sampling a coefficient\n",
    "internal_nodes = [Plus(),Minus(),Times(),Div(),Square(),Sqrt()] #Add your own operators here\n",
    "\n",
    "evo = Evolution(\n",
    "  fitness_function_pt, internal_nodes, leaf_nodes,\n",
    "  4,\n",
    "  pop_size=80,\n",
    "  max_gens=100, # decrease this \n",
    "  max_tree_size=64,\n",
    "  n_jobs=8,\n",
    "  verbose=True)"
   ]
  },
  {
   "cell_type": "markdown",
   "metadata": {},
   "source": [
    "## Evolve\n",
    "Running this cell will use all the settings above as parameters"
   ]
  },
  {
   "cell_type": "code",
   "execution_count": 71,
   "metadata": {},
   "outputs": [
    {
     "name": "stdout",
     "output_type": "stream",
     "text": [
      "gen: 1,\tbest of gen fitness: -94.444,\tbest of gen size: 21\n",
      "gen: 2,\tbest of gen fitness: -34.654,\tbest of gen size: 21\n",
      "gen: 3,\tbest of gen fitness: -44.174,\tbest of gen size: 23\n",
      "gen: 4,\tbest of gen fitness: 32.896,\tbest of gen size: 21\n",
      "gen: 5,\tbest of gen fitness: -17.348,\tbest of gen size: 23\n",
      "gen: 6,\tbest of gen fitness: 13.903,\tbest of gen size: 21\n",
      "gen: 7,\tbest of gen fitness: -6.648,\tbest of gen size: 47\n",
      "gen: 8,\tbest of gen fitness: 9.469,\tbest of gen size: 27\n",
      "gen: 9,\tbest of gen fitness: 28.904,\tbest of gen size: 34\n",
      "gen: 10,\tbest of gen fitness: 8.082,\tbest of gen size: 34\n",
      "gen: 11,\tbest of gen fitness: 63.051,\tbest of gen size: 45\n",
      "gen: 12,\tbest of gen fitness: 89.792,\tbest of gen size: 59\n",
      "gen: 13,\tbest of gen fitness: 41.025,\tbest of gen size: 51\n",
      "gen: 14,\tbest of gen fitness: 55.717,\tbest of gen size: 27\n",
      "gen: 15,\tbest of gen fitness: 91.932,\tbest of gen size: 35\n",
      "gen: 16,\tbest of gen fitness: 78.701,\tbest of gen size: 51\n",
      "gen: 17,\tbest of gen fitness: 98.851,\tbest of gen size: 34\n",
      "gen: 18,\tbest of gen fitness: 58.480,\tbest of gen size: 57\n",
      "gen: 19,\tbest of gen fitness: 225.818,\tbest of gen size: 35\n",
      "gen: 20,\tbest of gen fitness: 120.130,\tbest of gen size: 35\n"
     ]
    },
    {
     "name": "stderr",
     "output_type": "stream",
     "text": [
      "/home/jackkert/.local/lib/python3.8/site-packages/joblib/externals/loky/process_executor.py:752: UserWarning: A worker stopped while some jobs were given to the executor. This can be caused by a too short worker timeout or by a memory leak.\n",
      "  warnings.warn(\n"
     ]
    },
    {
     "name": "stdout",
     "output_type": "stream",
     "text": [
      "gen: 21,\tbest of gen fitness: 120.741,\tbest of gen size: 27\n",
      "gen: 22,\tbest of gen fitness: 147.814,\tbest of gen size: 35\n",
      "gen: 23,\tbest of gen fitness: 184.357,\tbest of gen size: 44\n",
      "gen: 24,\tbest of gen fitness: 204.164,\tbest of gen size: 35\n",
      "gen: 25,\tbest of gen fitness: 252.209,\tbest of gen size: 35\n",
      "gen: 26,\tbest of gen fitness: 228.960,\tbest of gen size: 44\n",
      "gen: 27,\tbest of gen fitness: 197.797,\tbest of gen size: 40\n",
      "gen: 28,\tbest of gen fitness: 266.134,\tbest of gen size: 35\n",
      "gen: 29,\tbest of gen fitness: 232.064,\tbest of gen size: 37\n",
      "gen: 30,\tbest of gen fitness: 260.910,\tbest of gen size: 35\n",
      "gen: 31,\tbest of gen fitness: 224.439,\tbest of gen size: 35\n",
      "gen: 32,\tbest of gen fitness: 220.661,\tbest of gen size: 35\n",
      "gen: 33,\tbest of gen fitness: 208.496,\tbest of gen size: 35\n",
      "gen: 34,\tbest of gen fitness: 234.182,\tbest of gen size: 43\n",
      "gen: 35,\tbest of gen fitness: 264.694,\tbest of gen size: 47\n",
      "gen: 36,\tbest of gen fitness: 187.313,\tbest of gen size: 51\n",
      "gen: 37,\tbest of gen fitness: 213.012,\tbest of gen size: 53\n",
      "gen: 38,\tbest of gen fitness: 170.145,\tbest of gen size: 53\n",
      "gen: 39,\tbest of gen fitness: 276.679,\tbest of gen size: 53\n",
      "gen: 40,\tbest of gen fitness: 258.218,\tbest of gen size: 53\n",
      "gen: 41,\tbest of gen fitness: 251.778,\tbest of gen size: 63\n",
      "gen: 42,\tbest of gen fitness: 258.202,\tbest of gen size: 53\n",
      "gen: 43,\tbest of gen fitness: 256.163,\tbest of gen size: 56\n",
      "gen: 44,\tbest of gen fitness: 225.159,\tbest of gen size: 63\n",
      "gen: 45,\tbest of gen fitness: 215.826,\tbest of gen size: 55\n",
      "gen: 46,\tbest of gen fitness: 221.060,\tbest of gen size: 46\n",
      "gen: 47,\tbest of gen fitness: 243.573,\tbest of gen size: 64\n",
      "gen: 48,\tbest of gen fitness: 254.066,\tbest of gen size: 53\n",
      "gen: 49,\tbest of gen fitness: 248.034,\tbest of gen size: 62\n",
      "gen: 50,\tbest of gen fitness: 216.967,\tbest of gen size: 58\n",
      "gen: 51,\tbest of gen fitness: 255.714,\tbest of gen size: 56\n",
      "gen: 52,\tbest of gen fitness: 250.712,\tbest of gen size: 55\n",
      "gen: 53,\tbest of gen fitness: 233.306,\tbest of gen size: 58\n",
      "gen: 54,\tbest of gen fitness: 253.364,\tbest of gen size: 64\n",
      "gen: 55,\tbest of gen fitness: 221.685,\tbest of gen size: 58\n",
      "gen: 56,\tbest of gen fitness: 218.888,\tbest of gen size: 54\n",
      "gen: 57,\tbest of gen fitness: 260.524,\tbest of gen size: 62\n",
      "gen: 58,\tbest of gen fitness: 253.415,\tbest of gen size: 56\n",
      "gen: 59,\tbest of gen fitness: 262.908,\tbest of gen size: 46\n",
      "gen: 60,\tbest of gen fitness: 260.194,\tbest of gen size: 58\n",
      "gen: 61,\tbest of gen fitness: 245.024,\tbest of gen size: 56\n",
      "gen: 62,\tbest of gen fitness: 266.313,\tbest of gen size: 42\n",
      "gen: 63,\tbest of gen fitness: 262.994,\tbest of gen size: 63\n",
      "gen: 64,\tbest of gen fitness: 260.649,\tbest of gen size: 42\n",
      "gen: 65,\tbest of gen fitness: 269.276,\tbest of gen size: 58\n",
      "gen: 66,\tbest of gen fitness: 253.523,\tbest of gen size: 56\n",
      "gen: 67,\tbest of gen fitness: 274.317,\tbest of gen size: 48\n",
      "gen: 68,\tbest of gen fitness: 263.592,\tbest of gen size: 57\n",
      "gen: 69,\tbest of gen fitness: 216.516,\tbest of gen size: 48\n",
      "gen: 70,\tbest of gen fitness: 257.086,\tbest of gen size: 58\n",
      "gen: 71,\tbest of gen fitness: 244.006,\tbest of gen size: 56\n",
      "gen: 72,\tbest of gen fitness: 262.313,\tbest of gen size: 59\n",
      "gen: 73,\tbest of gen fitness: 193.153,\tbest of gen size: 59\n",
      "gen: 74,\tbest of gen fitness: 254.313,\tbest of gen size: 58\n",
      "gen: 75,\tbest of gen fitness: 249.827,\tbest of gen size: 59\n",
      "gen: 76,\tbest of gen fitness: 250.850,\tbest of gen size: 63\n",
      "gen: 77,\tbest of gen fitness: 259.081,\tbest of gen size: 49\n",
      "gen: 78,\tbest of gen fitness: 248.501,\tbest of gen size: 49\n",
      "gen: 79,\tbest of gen fitness: 251.573,\tbest of gen size: 58\n",
      "gen: 80,\tbest of gen fitness: 265.057,\tbest of gen size: 63\n",
      "gen: 81,\tbest of gen fitness: 254.918,\tbest of gen size: 57\n"
     ]
    },
    {
     "ename": "KeyboardInterrupt",
     "evalue": "",
     "output_type": "error",
     "traceback": [
      "\u001b[0;31m---------------------------------------------------------------------------\u001b[0m",
      "\u001b[0;31mKeyboardInterrupt\u001b[0m                         Traceback (most recent call last)",
      "Cell \u001b[0;32mIn[71], line 1\u001b[0m\n\u001b[0;32m----> 1\u001b[0m \u001b[43mevo\u001b[49m\u001b[38;5;241;43m.\u001b[39;49m\u001b[43mevolve\u001b[49m\u001b[43m(\u001b[49m\u001b[43m)\u001b[49m\n",
      "File \u001b[0;32m~/lunar_lander_gp/genepro/evo.py:240\u001b[0m, in \u001b[0;36mEvolution.evolve\u001b[0;34m(self)\u001b[0m\n\u001b[1;32m    237\u001b[0m \u001b[38;5;66;03m# generational loop\u001b[39;00m\n\u001b[1;32m    238\u001b[0m \u001b[38;5;28;01mwhile\u001b[39;00m \u001b[38;5;129;01mnot\u001b[39;00m \u001b[38;5;28mself\u001b[39m\u001b[38;5;241m.\u001b[39m_must_terminate():\n\u001b[1;32m    239\u001b[0m   \u001b[38;5;66;03m# perform one generation\u001b[39;00m\n\u001b[0;32m--> 240\u001b[0m   \u001b[38;5;28;43mself\u001b[39;49m\u001b[38;5;241;43m.\u001b[39;49m\u001b[43m_perform_generation\u001b[49m\u001b[43m(\u001b[49m\u001b[43m)\u001b[49m\n\u001b[1;32m    241\u001b[0m   \u001b[38;5;66;03m# log info\u001b[39;00m\n\u001b[1;32m    242\u001b[0m   \u001b[38;5;28;01mif\u001b[39;00m \u001b[38;5;28mself\u001b[39m\u001b[38;5;241m.\u001b[39mverbose:\n",
      "File \u001b[0;32m~/lunar_lander_gp/genepro/evo.py:196\u001b[0m, in \u001b[0;36mEvolution._perform_generation\u001b[0;34m(self)\u001b[0m\n\u001b[1;32m    194\u001b[0m parents \u001b[38;5;241m=\u001b[39m sel_fun(\u001b[38;5;28mself\u001b[39m\u001b[38;5;241m.\u001b[39mpopulation, \u001b[38;5;28mself\u001b[39m\u001b[38;5;241m.\u001b[39mpop_size, \u001b[38;5;241m*\u001b[39m\u001b[38;5;241m*\u001b[39m\u001b[38;5;28mself\u001b[39m\u001b[38;5;241m.\u001b[39mselection[\u001b[38;5;124m\"\u001b[39m\u001b[38;5;124mkwargs\u001b[39m\u001b[38;5;124m\"\u001b[39m])\n\u001b[1;32m    195\u001b[0m \u001b[38;5;66;03m# generate offspring\u001b[39;00m\n\u001b[0;32m--> 196\u001b[0m offspring_population \u001b[38;5;241m=\u001b[39m \u001b[43mParallel\u001b[49m\u001b[43m(\u001b[49m\u001b[43mn_jobs\u001b[49m\u001b[38;5;241;43m=\u001b[39;49m\u001b[38;5;28;43mself\u001b[39;49m\u001b[38;5;241;43m.\u001b[39;49m\u001b[43mn_jobs\u001b[49m\u001b[43m)\u001b[49m\u001b[43m(\u001b[49m\u001b[43mdelayed\u001b[49m\u001b[43m(\u001b[49m\u001b[43mgenerate_offspring\u001b[49m\u001b[43m)\u001b[49m\n\u001b[1;32m    197\u001b[0m \u001b[43m  \u001b[49m\u001b[43m(\u001b[49m\u001b[43mt\u001b[49m\u001b[43m,\u001b[49m\u001b[43m \u001b[49m\u001b[38;5;28;43mself\u001b[39;49m\u001b[38;5;241;43m.\u001b[39;49m\u001b[43mcrossovers\u001b[49m\u001b[43m,\u001b[49m\u001b[43m \u001b[49m\u001b[38;5;28;43mself\u001b[39;49m\u001b[38;5;241;43m.\u001b[39;49m\u001b[43mmutations\u001b[49m\u001b[43m,\u001b[49m\u001b[43m \u001b[49m\u001b[38;5;28;43mself\u001b[39;49m\u001b[38;5;241;43m.\u001b[39;49m\u001b[43mcoeff_opts\u001b[49m\u001b[43m,\u001b[49m\u001b[43m \u001b[49m\n\u001b[1;32m    198\u001b[0m \u001b[43m  \u001b[49m\u001b[43mparents\u001b[49m\u001b[43m,\u001b[49m\u001b[43m \u001b[49m\u001b[38;5;28;43mself\u001b[39;49m\u001b[38;5;241;43m.\u001b[39;49m\u001b[43minternal_nodes\u001b[49m\u001b[43m,\u001b[49m\u001b[43m \u001b[49m\u001b[38;5;28;43mself\u001b[39;49m\u001b[38;5;241;43m.\u001b[39;49m\u001b[43mleaf_nodes\u001b[49m\u001b[43m,\u001b[49m\n\u001b[1;32m    199\u001b[0m \u001b[43m  \u001b[49m\u001b[43mconstraints\u001b[49m\u001b[38;5;241;43m=\u001b[39;49m\u001b[43m{\u001b[49m\u001b[38;5;124;43m\"\u001b[39;49m\u001b[38;5;124;43mmax_tree_size\u001b[39;49m\u001b[38;5;124;43m\"\u001b[39;49m\u001b[43m:\u001b[49m\u001b[43m \u001b[49m\u001b[38;5;28;43mself\u001b[39;49m\u001b[38;5;241;43m.\u001b[39;49m\u001b[43mmax_tree_size\u001b[49m\u001b[43m}\u001b[49m\u001b[43m)\u001b[49m\u001b[43m \u001b[49m\n\u001b[1;32m    200\u001b[0m \u001b[43m  \u001b[49m\u001b[38;5;28;43;01mfor\u001b[39;49;00m\u001b[43m \u001b[49m\u001b[43mt\u001b[49m\u001b[43m \u001b[49m\u001b[38;5;129;43;01min\u001b[39;49;00m\u001b[43m \u001b[49m\u001b[43mparents\u001b[49m\u001b[43m)\u001b[49m\n\u001b[1;32m    202\u001b[0m \u001b[38;5;66;03m# evaluate each offspring and store its fitness \u001b[39;00m\n\u001b[1;32m    203\u001b[0m fitnesses \u001b[38;5;241m=\u001b[39m Parallel(n_jobs\u001b[38;5;241m=\u001b[39m\u001b[38;5;28mself\u001b[39m\u001b[38;5;241m.\u001b[39mn_jobs)(delayed(\u001b[38;5;28mself\u001b[39m\u001b[38;5;241m.\u001b[39mfitness_function)(t) \u001b[38;5;28;01mfor\u001b[39;00m t \u001b[38;5;129;01min\u001b[39;00m offspring_population)\n",
      "File \u001b[0;32m~/.local/lib/python3.8/site-packages/joblib/parallel.py:2007\u001b[0m, in \u001b[0;36mParallel.__call__\u001b[0;34m(self, iterable)\u001b[0m\n\u001b[1;32m   2001\u001b[0m \u001b[38;5;66;03m# The first item from the output is blank, but it makes the interpreter\u001b[39;00m\n\u001b[1;32m   2002\u001b[0m \u001b[38;5;66;03m# progress until it enters the Try/Except block of the generator and\u001b[39;00m\n\u001b[1;32m   2003\u001b[0m \u001b[38;5;66;03m# reaches the first `yield` statement. This starts the asynchronous\u001b[39;00m\n\u001b[1;32m   2004\u001b[0m \u001b[38;5;66;03m# dispatch of the tasks to the workers.\u001b[39;00m\n\u001b[1;32m   2005\u001b[0m \u001b[38;5;28mnext\u001b[39m(output)\n\u001b[0;32m-> 2007\u001b[0m \u001b[38;5;28;01mreturn\u001b[39;00m output \u001b[38;5;28;01mif\u001b[39;00m \u001b[38;5;28mself\u001b[39m\u001b[38;5;241m.\u001b[39mreturn_generator \u001b[38;5;28;01melse\u001b[39;00m \u001b[38;5;28;43mlist\u001b[39;49m\u001b[43m(\u001b[49m\u001b[43moutput\u001b[49m\u001b[43m)\u001b[49m\n",
      "File \u001b[0;32m~/.local/lib/python3.8/site-packages/joblib/parallel.py:1650\u001b[0m, in \u001b[0;36mParallel._get_outputs\u001b[0;34m(self, iterator, pre_dispatch)\u001b[0m\n\u001b[1;32m   1647\u001b[0m     \u001b[38;5;28;01myield\u001b[39;00m\n\u001b[1;32m   1649\u001b[0m     \u001b[38;5;28;01mwith\u001b[39;00m \u001b[38;5;28mself\u001b[39m\u001b[38;5;241m.\u001b[39m_backend\u001b[38;5;241m.\u001b[39mretrieval_context():\n\u001b[0;32m-> 1650\u001b[0m         \u001b[38;5;28;01myield from\u001b[39;00m \u001b[38;5;28mself\u001b[39m\u001b[38;5;241m.\u001b[39m_retrieve()\n\u001b[1;32m   1652\u001b[0m \u001b[38;5;28;01mexcept\u001b[39;00m \u001b[38;5;167;01mGeneratorExit\u001b[39;00m:\n\u001b[1;32m   1653\u001b[0m     \u001b[38;5;66;03m# The generator has been garbage collected before being fully\u001b[39;00m\n\u001b[1;32m   1654\u001b[0m     \u001b[38;5;66;03m# consumed. This aborts the remaining tasks if possible and warn\u001b[39;00m\n\u001b[1;32m   1655\u001b[0m     \u001b[38;5;66;03m# the user if necessary.\u001b[39;00m\n\u001b[1;32m   1656\u001b[0m     \u001b[38;5;28mself\u001b[39m\u001b[38;5;241m.\u001b[39m_exception \u001b[38;5;241m=\u001b[39m \u001b[38;5;28;01mTrue\u001b[39;00m\n",
      "File \u001b[0;32m~/.local/lib/python3.8/site-packages/joblib/parallel.py:1762\u001b[0m, in \u001b[0;36mParallel._retrieve\u001b[0;34m(self)\u001b[0m\n\u001b[1;32m   1757\u001b[0m \u001b[38;5;66;03m# If the next job is not ready for retrieval yet, we just wait for\u001b[39;00m\n\u001b[1;32m   1758\u001b[0m \u001b[38;5;66;03m# async callbacks to progress.\u001b[39;00m\n\u001b[1;32m   1759\u001b[0m \u001b[38;5;28;01mif\u001b[39;00m ((\u001b[38;5;28mlen\u001b[39m(\u001b[38;5;28mself\u001b[39m\u001b[38;5;241m.\u001b[39m_jobs) \u001b[38;5;241m==\u001b[39m \u001b[38;5;241m0\u001b[39m) \u001b[38;5;129;01mor\u001b[39;00m\n\u001b[1;32m   1760\u001b[0m     (\u001b[38;5;28mself\u001b[39m\u001b[38;5;241m.\u001b[39m_jobs[\u001b[38;5;241m0\u001b[39m]\u001b[38;5;241m.\u001b[39mget_status(\n\u001b[1;32m   1761\u001b[0m         timeout\u001b[38;5;241m=\u001b[39m\u001b[38;5;28mself\u001b[39m\u001b[38;5;241m.\u001b[39mtimeout) \u001b[38;5;241m==\u001b[39m TASK_PENDING)):\n\u001b[0;32m-> 1762\u001b[0m     \u001b[43mtime\u001b[49m\u001b[38;5;241;43m.\u001b[39;49m\u001b[43msleep\u001b[49m\u001b[43m(\u001b[49m\u001b[38;5;241;43m0.01\u001b[39;49m\u001b[43m)\u001b[49m\n\u001b[1;32m   1763\u001b[0m     \u001b[38;5;28;01mcontinue\u001b[39;00m\n\u001b[1;32m   1765\u001b[0m \u001b[38;5;66;03m# We need to be careful: the job list can be filling up as\u001b[39;00m\n\u001b[1;32m   1766\u001b[0m \u001b[38;5;66;03m# we empty it and Python list are not thread-safe by\u001b[39;00m\n\u001b[1;32m   1767\u001b[0m \u001b[38;5;66;03m# default hence the use of the lock\u001b[39;00m\n",
      "\u001b[0;31mKeyboardInterrupt\u001b[0m: "
     ]
    }
   ],
   "source": [
    "evo.evolve()"
   ]
  },
  {
   "cell_type": "code",
   "execution_count": 73,
   "metadata": {},
   "outputs": [],
   "source": [
    "# Save model\n",
    "import pickle\n",
    "\n",
    "file_path = 'best_gp.pickle'\n",
    "\n",
    "# Open the file in binary mode\n",
    "with open(file_path, 'wb') as file:\n",
    "    # Serialize and write the variable to the file\n",
    "    pickle.dump(evo.best_of_gens[-1], file)"
   ]
  },
  {
   "cell_type": "markdown",
   "metadata": {},
   "source": [
    "# Test"
   ]
  },
  {
   "cell_type": "code",
   "execution_count": 74,
   "metadata": {},
   "outputs": [
    {
     "name": "stdout",
     "output_type": "stream",
     "text": [
      "['((((x_6-((sqrt(abs((x_6/x_6)))/x_6)-((x_6/x_3)/x_3))))**2-(x_1)**2))**2', '((((x_2*x_4)-x_4)/((x_7*((((x_5)**2-(((x_5/x_0)+2.7468316555023193)*x_3))/(sqrt(abs(x_0))-(((x_2)**2/(x_7+x_0))*x_0)))-x_4))/(-3.320753245000244*x_4)))-x_7)', '(((x_3+sqrt(abs(x_1)))*(x_3-((x_4/x_7))**2))-(((x_0*(x_1*x_4))/sqrt(abs(x_1)))-((x_3)**2+(x_7*((x_3+sqrt(abs(((sqrt(abs(x_4)))**2/(x_5+(sqrt(abs(sqrt(abs((((x_1-x_2)/(x_7-1.0742173619698672))--3.64070996374277)))))/(sqrt(abs(sqrt(abs(x_0))))-(x_3/sqrt(abs(x_7))))))))))*x_5)))))', '(sqrt(abs(((-0.7991175137222066+((((x_0-x_0)*((x_5*x_1)*((x_3)**2/((((x_2-x_3)*sqrt(abs(x_3))))**2)**2)))+x_2)*(3.034275770187378+x_4)))/((sqrt(abs((sqrt(abs(((x_2+x_0)/(x_3)**2))))**2))-(x_2)**2))**2)))-x_4)']\n",
      "97.28053401354643\n"
     ]
    }
   ],
   "source": [
    "def get_test_score(tree):\n",
    "    rewards = []\n",
    "\n",
    "    for i in range(10):\n",
    "      # get initial state\n",
    "      observation = env.reset(seed=i)\n",
    "      observation = observation[0]\n",
    "\n",
    "      for _ in range(500):    \n",
    "        # build up the input sample for GP\n",
    "        input_sample = torch.from_numpy(observation.reshape((1,-1))).float()\n",
    "        # get output (squeezing because it is encapsulated in an array)\n",
    "        output = tree.get_output_pt(input_sample)\n",
    "        action = torch.argmax(tree.get_output_pt(input_sample))\n",
    "        observation, reward, terminated, truncated, info = env.step(action.item())\n",
    "        rewards.append(reward)\n",
    "\n",
    "\n",
    "        output_sample = torch.from_numpy(observation.reshape((1,-1))).float()\n",
    "        if (terminated or truncated):\n",
    "            break\n",
    "\n",
    "    fitness = np.sum(rewards)\n",
    "    \n",
    "    return fitness / 10\n",
    "\n",
    "best = evo.best_of_gens[-1]\n",
    "\n",
    "print(best.get_readable_repr())\n",
    "print(get_test_score(best))"
   ]
  },
  {
   "cell_type": "markdown",
   "metadata": {},
   "source": [
    "## Make an animation\n",
    "Here the best evolved individual is selected and one episode is rendered. Make sure to save your lunar landers over time to track progress and make comparisons."
   ]
  },
  {
   "cell_type": "code",
   "execution_count": 75,
   "metadata": {},
   "outputs": [
    {
     "name": "stderr",
     "output_type": "stream",
     "text": [
      "MovieWriter imagemagick unavailable; using Pillow instead.\n"
     ]
    },
    {
     "data": {
      "image/png": "[encoded data removed]",
      "text/plain": [
       "<Figure size 600x400 with 1 Axes>"
      ]
     },
     "metadata": {},
     "output_type": "display_data"
    }
   ],
   "source": [
    "frames = []\n",
    "\n",
    "# gist to save gif from https://gist.github.com/botforge/64cbb71780e6208172bbf03cd9293553\n",
    "def save_frames_as_gif(frames, path='./', filename='evolved_lander.gif'):\n",
    "  plt.figure(figsize=(frames[0].shape[1] / 72.0, frames[0].shape[0] / 72.0), dpi=72)\n",
    "  patch = plt.imshow(frames[0])\n",
    "  plt.axis('off')\n",
    "  def animate(i):\n",
    "      patch.set_data(frames[i])\n",
    "  anim = animation.FuncAnimation(plt.gcf(), animate, frames = len(frames), interval=50)\n",
    "  anim.save(path + filename, writer='imagemagick', fps=60)\n",
    "\n",
    "frames = []\n",
    "fitness_function_pt(best, num_episodes=1, episode_duration=500, render=True, ignore_done=False)\n",
    "env.close()\n",
    "save_frames_as_gif(frames)"
   ]
  },
  {
   "cell_type": "markdown",
   "metadata": {},
   "source": [
    "## Play animation"
   ]
  },
  {
   "cell_type": "markdown",
   "metadata": {},
   "source": [
    "<img src=\"evolved_lander.gif\" width=\"750\">"
   ]
  },
  {
   "cell_type": "markdown",
   "metadata": {},
   "source": [
    "## Optimisation\n",
    "The coefficients in the multi-tree aren't optimised. Here Q-learning (taken from https://pytorch.org/tutorials/intermediate/reinforcement_q_learning.html) is used to optimise the weights further. Incorporate coefficient optimisation in training your agent(s). Coefficient Optimisation can be expensive. Think about how often you want to optimise, when, which individuals etc."
   ]
  },
  {
   "cell_type": "markdown",
   "metadata": {},
   "source": [
    "### Question 3\n",
    "\n",
    "Bring more elaborated ideas (also taking inspiration from the scientific literature) about how the provided GP library could be improved using coefficient optimisation. Optimisation can be expensive, so consider what individuals or what portion of the population should be optimised. Important: At this stage, each idea should be formalised into a motivating hypothesis (e.g., “Assuming that . . . happens, then we expect an improvement by doing . . . ”.\n",
    "\n",
    "---\n",
    "\n",
    "## Jack\n",
    "\n",
    "The optimization can be done periodically while evolving as well. For example: optimizing the best multitree coefficients of every generation, or every x generations.\n",
    "\n",
    "Some potentially useful papers\n",
    "1. Genetic Programming and Reinforcement Learning on Learning Heuristics for Dynamic Scheduling: A Preliminary Comparison (https://www.researchgate.net/publication/380254508_Genetic_Programming_and_Reinforcement_Learning_on_Learning_Heuristics_for_Dynamic_Scheduling_A_Preliminary_Comparison)\n",
    "2. Reinforced Genetic Programming (https://link.springer.com/article/10.1023/A:1011953410319)\n",
    "3. Multi-modal multi-objective model-based genetic programming to find multiple diverse high-quality models (https://arxiv.org/pdf/2203.13347)\n",
    "4. Multi-objective Genetic Programming Optimization of Decision Trees for Classifying Medical Data (https://link.springer.com/chapter/10.1007/978-3-540-45224-9_42)\n",
    "5. Coefficient Mutation in the Gene-pool Optimal Mixing Evolutionary Algorithm for Symbolic Regression (https://dl.acm.org/doi/pdf/10.1145/3520304.3534036)\n",
    "\n",
    "Mind here: programs in this case = multitrees\n",
    "\n",
    "Ideas:\n",
    "1. Optimizing coefficients of the best multitree of each generation during evolution. Assuming that we optimize the coefficients of the best individual in a population, increasing the fitness, its offspring will also be fitter. We expect an improvement in \"convergence rate\" (fitness improves faster). This does not affect the global structure of the trees but the coefficients get \"propagated\"\n",
    "2. The same, but not the best of every generation to save compute.\n",
    "3. Optimize the coefficients on the worst individuals. Assume that the fitness increases to the point that the program will be included in the tournament selection. Then, this program is \"saved\" from being eliminated, and will perhaps evolve into a good (or best) solution. This is kind of like exploration, avoiding a pure greedy approach.\n",
    "4. Same reasoning for optimizing the number 2 or 3, or multiple programs, but that will be very expensive so probably not good.\n",
    "5. Inspired by paper: Coefficient Mutation in the Gene-pool Optimal Mixing Evolutionary Algorithm (GOMEA). Use Gaussian coefficient mutation to mutate the coefficients to allow for more exploration, and fine-tuning solutions. This could be combined with optimizing while evolving for example. E.g. optimizing the best program and mutating it using gaussian coefficient mutation to create new programs. Then see if these programs are among the highest fitness to be selected by tournament selection. Assuming that this propagates the best solution while also exploring the solution (program) space, then this will ultimately lead to an overall better solution.\n",
    "6. Inspired by: Multi-objective Genetic Programming Optimization of Decision Trees for Classifying Medical Data. Use this technique that they are using to enhance their GP's coefficient optimization properties. But right now I don't have enough time to figure out what they did. ### TODO: LOOK AT PAPER. They state this: \"We have incorporated a Quasi-Newton optimization technique to augment the\n",
    "power ofthe GP coefficient optimization. This technique uses an error propaga-\n",
    "tion algorithm that efficiently calculates the gradient ofthe error function with\n",
    "respect to the coefficients embedded in the GP expression tree\""
   ]
  },
  {
   "cell_type": "code",
   "execution_count": 76,
   "metadata": {},
   "outputs": [
    {
     "name": "stdout",
     "output_type": "stream",
     "text": [
      "['((((x_6-((sqrt(abs((x_6/x_6)))/x_6)-((x_6/x_3)/x_3))))**2-(x_1)**2))**2', '((((x_2*x_4)-x_4)/((x_7*((((x_5)**2-(((x_5/x_0)+2.710167407989502)*x_3))/(sqrt(abs(x_0))-(((x_2)**2/(x_7+x_0))*x_0)))-x_4))/(-3.267687121202525*x_4)))-x_7)', '(((x_3+sqrt(abs(x_1)))*(x_3-((x_4/x_7))**2))-(((x_0*(x_1*x_4))/sqrt(abs(x_1)))-((x_3)**2+(x_7*((x_3+sqrt(abs(((sqrt(abs(x_4)))**2/(x_5+(sqrt(abs(sqrt(abs((((x_1-x_2)/(x_7-1.0117319342698565))--3.5827431979741537)))))/(sqrt(abs(sqrt(abs(x_0))))-(x_3/sqrt(abs(x_7))))))))))*x_5)))))', '(sqrt(abs(((-0.8756281339797571+((((x_0-x_0)*((x_5*x_1)*((x_3)**2/((((x_2-x_3)*sqrt(abs(x_3))))**2)**2)))+x_2)*(3.0919415950775146+x_4)))/((sqrt(abs((sqrt(abs(((x_2+x_0)/(x_3)**2))))**2))-(x_2)**2))**2)))-x_4)']\n",
      "99.3772147815159\n"
     ]
    }
   ],
   "source": [
    "batch_size = 128\n",
    "GAMMA = 0.99\n",
    "\n",
    "constants = best.get_subtrees_consts()\n",
    "\n",
    "if len(constants)>0:\n",
    "  optimizer = optim.AdamW(constants, lr=1e-3, amsgrad=True)\n",
    "\n",
    "for _ in range(500):\n",
    "\n",
    "  if len(constants)>0 and len(evo.memory)>batch_size:\n",
    "    target_tree = copy.deepcopy(best)\n",
    "\n",
    "    transitions = evo.memory.sample(batch_size)\n",
    "    batch = Transition(*zip(*transitions))\n",
    "    \n",
    "    non_final_mask = torch.tensor(tuple(map(lambda s: s is not None,\n",
    "                                        batch.next_state)), dtype=torch.bool)\n",
    "\n",
    "    non_final_next_states = torch.cat([s for s in batch.next_state\n",
    "                                               if s is not None])\n",
    "    state_batch = torch.cat(batch.state)\n",
    "    action_batch = torch.cat(batch.action)\n",
    "    reward_batch = torch.cat(batch.reward)\n",
    "\n",
    "    state_action_values = best.get_output_pt(state_batch).gather(1, action_batch)\n",
    "    next_state_values = torch.zeros(batch_size, dtype=torch.float)\n",
    "    with torch.no_grad():\n",
    "      next_state_values[non_final_mask] = target_tree.get_output_pt(non_final_next_states).max(1)[0].float()\n",
    "\n",
    "    expected_state_action_values = (next_state_values * GAMMA) + reward_batch\n",
    "    \n",
    "    criterion = nn.SmoothL1Loss()\n",
    "    loss = criterion(state_action_values, expected_state_action_values.unsqueeze(1))\n",
    "   \n",
    "    # Optimize the model\n",
    "    optimizer.zero_grad()\n",
    "    loss.backward()\n",
    "    torch.nn.utils.clip_grad_value_(constants, 100)\n",
    "    optimizer.step()\n",
    "\n",
    "print(best.get_readable_repr())\n",
    "print(get_test_score(best))"
   ]
  },
  {
   "cell_type": "code",
   "execution_count": 77,
   "metadata": {},
   "outputs": [
    {
     "name": "stderr",
     "output_type": "stream",
     "text": [
      "MovieWriter imagemagick unavailable; using Pillow instead.\n"
     ]
    },
    {
     "data": {
      "image/png": "[encoded data removed]",
      "text/plain": [
       "<Figure size 600x400 with 1 Axes>"
      ]
     },
     "metadata": {},
     "output_type": "display_data"
    }
   ],
   "source": [
    "frames = []\n",
    "fitness_function_pt(best, num_episodes=1, episode_duration=500, render=True, ignore_done=False)\n",
    "env.close()\n",
    "save_frames_as_gif(frames, filename='evolved_lander_RL.gif')"
   ]
  },
  {
   "cell_type": "markdown",
   "metadata": {},
   "source": [
    "<img src=\"evolved_lander_RL.gif\" width=\"750\">"
   ]
  },
  {
   "cell_type": "code",
   "execution_count": null,
   "metadata": {},
   "outputs": [],
   "source": []
  },
  {
   "cell_type": "code",
   "execution_count": null,
   "metadata": {},
   "outputs": [],
   "source": []
  }
 ],
 "metadata": {
  "kernelspec": {
   "display_name": "Python 3 (ipykernel)",
   "language": "python",
   "name": "python3"
  },
  "language_info": {
   "codemirror_mode": {
    "name": "ipython",
    "version": 3
   },
   "file_extension": ".py",
   "mimetype": "text/x-python",
   "name": "python",
   "nbconvert_exporter": "python",
   "pygments_lexer": "ipython3",
   "version": "3.8.10"
  }
 },
 "nbformat": 4,
 "nbformat_minor": 4
}
