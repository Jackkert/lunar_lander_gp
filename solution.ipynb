{
 "cells": [
  {
   "cell_type": "markdown",
   "metadata": {},
   "source": [
    "# Evolving a Lunar Lander with differentiable Genetic Programming"
   ]
  },
  {
   "cell_type": "markdown",
   "metadata": {},
   "source": [
    "## Installation\n",
    "To install the required libraries run the command:"
   ]
  },
  {
   "cell_type": "code",
   "execution_count": 1,
   "metadata": {},
   "outputs": [],
   "source": [
    "#!pip install -r requirements.txt"
   ]
  },
  {
   "cell_type": "markdown",
   "metadata": {},
   "source": [
    "## Imports\n",
    "Imports from the standard genepro-multi library are done here. Any adjustments (e.g. different operators) should be made in the notebook. For example:\n",
    "\n",
    "```\n",
    "class SmoothOperator(Node):\n",
    "  def __init__(self):\n",
    "    super(SmoothOperator,self).__init__()\n",
    "    self.arity = 1\n",
    "    self.symb = \"SmoothOperator\"\n",
    "\n",
    "  def _get_args_repr(self, args):\n",
    "    return self._get_typical_repr(args,'before')\n",
    "\n",
    "  def get_output(self, X):\n",
    "    c_outs = self._get_child_outputs(X)\n",
    "    return np.smoothOperation(c_outs[0])\n",
    "\n",
    "  def get_output_pt(self, X):\n",
    "    c_outs = self._get_child_outputs_pt(X)\n",
    "    return torch.smoothOperation(c_outs[0])\n",
    "```"
   ]
  },
  {
   "cell_type": "code",
   "execution_count": 2,
   "metadata": {},
   "outputs": [],
   "source": [
    "import gymnasium as gym\n",
    "\n",
    "from genepro.node_impl import *\n",
    "from genepro.evo import Evolution\n",
    "from genepro.node_impl import Constant\n",
    "from genepro.variation import subtree_crossover, coeff_mutation\n",
    "from genepro.multitree import Multitree\n",
    "\n",
    "import torch\n",
    "import torch.optim as optim\n",
    "\n",
    "import random\n",
    "import os\n",
    "import copy\n",
    "from collections import namedtuple, deque\n",
    "\n",
    "import matplotlib.pyplot as plt\n",
    "from matplotlib import animation\n",
    "\n",
    "import numpy\n",
    "import math"
   ]
  },
  {
   "cell_type": "markdown",
   "metadata": {},
   "source": [
    "## Reinforcement Learning Setup\n",
    "Here we first setup the Gymnasium environment. Please see https://gymnasium.farama.org/environments/box2d/lunar_lander/ for more information on the environment. \n",
    "\n",
    "Then a memory buffer is made. This is a buffer in which state transitions are stored. When the buffer reaches its maximum capacity old transitions are replaced by new ones.\n",
    "\n",
    "A frame buffer is initialised used to later store animation frames of the environment."
   ]
  },
  {
   "cell_type": "code",
   "execution_count": 3,
   "metadata": {},
   "outputs": [],
   "source": [
    "env = gym.make(\"LunarLander-v2\", render_mode=\"rgb_array\")"
   ]
  },
  {
   "cell_type": "code",
   "execution_count": 4,
   "metadata": {},
   "outputs": [],
   "source": [
    "Transition = namedtuple('Transition', ('state', 'action', 'next_state', 'reward'))\n",
    "\n",
    "class ReplayMemory(object):\n",
    "    def __init__(self, capacity):\n",
    "        self.memory = deque([], maxlen=capacity)\n",
    "\n",
    "    def push(self, *args):\n",
    "        \"\"\"Save a transition\"\"\"\n",
    "        self.memory.append(Transition(*args))\n",
    "\n",
    "    def sample(self, batch_size):\n",
    "        return random.sample(self.memory, batch_size)\n",
    "\n",
    "    def __len__(self):\n",
    "        return len(self.memory)\n",
    "\n",
    "    def __iadd__(self, other):\n",
    "      self.memory += other.memory\n",
    "      return self \n",
    "\n",
    "    def __add__(self, other):\n",
    "      self.memory = self.memory + other.memory \n",
    "      return self"
   ]
  },
  {
   "cell_type": "code",
   "execution_count": 5,
   "metadata": {},
   "outputs": [],
   "source": [
    "frames = []"
   ]
  },
  {
   "cell_type": "markdown",
   "metadata": {},
   "source": [
    "## Fitness Function\n",
    "\n",
    "Here you get to be creative. The default setup evaluates 5 episodes of 300 frames. Think of what action to pick and what fitness function to use. The Multi-tree takes an input of $n \\times d$ where $n$ is a batch of size 1."
   ]
  },
  {
   "cell_type": "code",
   "execution_count": 6,
   "metadata": {},
   "outputs": [],
   "source": [
    "def gaussian_coeff_mutation(multitree : Multitree, optimize : bool, prob_coeff_mut : float= 1, temp : float=0.25) -> Node:\n",
    "  \"\"\"\n",
    "  Applies gaussian coefficient mutations to constant nodes \n",
    "\n",
    "  Parameters\n",
    "  ----------\n",
    "  tree : Node\n",
    "    the tree to which coefficient mutations are applied\n",
    "  prob_coeff_mut : float, optional\n",
    "    the probability with which coefficients are mutated (default is 0.25)\n",
    "  temp : float, optional\n",
    "    \"temperature\" that indicates the strength of coefficient mutation, it is relative to the current value (i.e., v' = v + temp*abs(v)*N(0,1))\n",
    "\n",
    "  Returns\n",
    "  -------\n",
    "  Node\n",
    "    the tree after coefficient mutation (it is the same as the tree in input)\n",
    "  \"\"\"\n",
    "  for tree in multitree.children:\n",
    "      coeffs = [n for n in tree.get_subtree() if type(n) == Constant]\n",
    "      for c in coeffs:\n",
    "        # decide wheter it should be applied\n",
    "        if random.uniform(0, 1) < prob_coeff_mut:\n",
    "          if not hasattr(c, 'sigma'):\n",
    "              sample = np.random.normal(0, 0.1**2)\n",
    "              setattr(c, 'sigma', max(math.exp(sample), 10**(-16)))\n",
    "          else:\n",
    "              v = c.get_value()\n",
    "              # update the value by +- temp relative to current value\n",
    "              # sample = random.gauss(0, 0.1)\n",
    "              new_v = np.random.normal(v, c.sigma**2)\n",
    "        \n",
    "              c.sigma = max(c.sigma * math.exp(np.random.normal(0, 0.1**2)), 10**(-16))\n",
    "              # new_v = v + sample #temp*np.abs(v)*randn()\n",
    "              c.set_value(new_v)\n",
    "  \n",
    "  # multitree.children[r] = tree\n",
    "  return multitree"
   ]
  },
  {
   "cell_type": "code",
   "execution_count": 7,
   "metadata": {},
   "outputs": [],
   "source": [
    "def DQN_coeff_opt(multitree : Multitree, optimize : bool, prob_coeff_mut : float= 1, temp : float=0.25, ) -> Node:\n",
    "\n",
    "    if not optimize:\n",
    "        return multitree\n",
    "        \n",
    "    batch_size = 128\n",
    "    GAMMA = 0.99\n",
    "    \n",
    "    constants = multitree.get_subtrees_consts()\n",
    "    \n",
    "    if len(constants)>0:\n",
    "      optimizer = optim.AdamW(constants, lr=1e-3, amsgrad=True)\n",
    "    \n",
    "    for _ in range(100):\n",
    "    \n",
    "      if len(constants)>0 and len(evo.memory)>batch_size:\n",
    "        target_tree = copy.deepcopy(multitree)\n",
    "    \n",
    "        transitions = evo.memory.sample(batch_size)\n",
    "        batch = Transition(*zip(*transitions))\n",
    "        \n",
    "        non_final_mask = torch.tensor(tuple(map(lambda s: s is not None,\n",
    "                                            batch.next_state)), dtype=torch.bool)\n",
    "    \n",
    "        non_final_next_states = torch.cat([s for s in batch.next_state\n",
    "                                                   if s is not None])\n",
    "        state_batch = torch.cat(batch.state)\n",
    "        action_batch = torch.cat(batch.action)\n",
    "        reward_batch = torch.cat(batch.reward)\n",
    "    \n",
    "        state_action_values = multitree.get_output_pt(state_batch).gather(1, action_batch)\n",
    "        next_state_values = torch.zeros(batch_size, dtype=torch.float)\n",
    "        with torch.no_grad():\n",
    "          next_state_values[non_final_mask] = target_tree.get_output_pt(non_final_next_states).max(1)[0].float()\n",
    "    \n",
    "        expected_state_action_values = (next_state_values * GAMMA) + reward_batch\n",
    "        \n",
    "        criterion = nn.SmoothL1Loss()\n",
    "        loss = criterion(state_action_values, expected_state_action_values.unsqueeze(1))\n",
    "       \n",
    "        # Optimize the model\n",
    "        optimizer.zero_grad()\n",
    "        loss.backward()\n",
    "        torch.nn.utils.clip_grad_value_(constants, 100)\n",
    "        optimizer.step()\n",
    "\n",
    "    return multitree"
   ]
  },
  {
   "cell_type": "code",
   "execution_count": 8,
   "metadata": {},
   "outputs": [],
   "source": [
    "def fitness_function_pt(multitree, num_episodes=5, episode_duration=300, render=False, ignore_done=False):\n",
    "  memory = ReplayMemory(10000)\n",
    "  rewards = []\n",
    "\n",
    "  for _ in range(num_episodes):\n",
    "    # get initial state of the environment\n",
    "    observation = env.reset()\n",
    "    observation = observation[0]\n",
    "    \n",
    "    for _ in range(episode_duration):\n",
    "      if render:\n",
    "        frames.append(env.render())\n",
    "\n",
    "      input_sample = torch.from_numpy(observation.reshape((1,-1))).float()\n",
    "      \n",
    "      action = torch.argmax(multitree.get_output_pt(input_sample))\n",
    "      observation, reward, terminated, truncated, info = env.step(action.item())\n",
    "      rewards.append(reward)\n",
    "      output_sample = torch.from_numpy(observation.reshape((1,-1))).float()\n",
    "      memory.push(input_sample, torch.tensor([[action.item()]]), output_sample, torch.tensor([reward]))\n",
    "      if (terminated or truncated) and not ignore_done:\n",
    "        break\n",
    "\n",
    "  fitness = np.sum(rewards) / num_episodes\n",
    "  \n",
    "  return fitness, memory"
   ]
  },
  {
   "cell_type": "markdown",
   "metadata": {},
   "source": [
    "## Evolution Setup\n",
    "Here the leaf and internal nodes are defined. Think about the odds of sampling a constant in this default configurations. Also think about any operators that could be useful and add them here. \n",
    "\n",
    "Adjust the population size (multiple of 8 if you want to use the standard tournament selection), max generations and max tree size to taste. Be aware that each of these settings can increase the runtime."
   ]
  },
  {
   "cell_type": "code",
   "execution_count": 9,
   "metadata": {},
   "outputs": [],
   "source": [
    "num_features = env.observation_space.shape[0]\n",
    "leaf_nodes = [Feature(i) for i in range(num_features)]\n",
    "leaf_nodes = leaf_nodes + [Constant()] # Think about the probability of sampling a coefficient\n",
    "internal_nodes = [Plus(),Minus(),Times(),Div(),Square(),Sqrt()] #Add your own operators here\n",
    "\n",
    "num_experiments = 10"
   ]
  },
  {
   "cell_type": "markdown",
   "metadata": {},
   "source": [
    "## Evolve\n",
    "Running this cell will use all the settings above as parameters"
   ]
  },
  {
   "cell_type": "code",
   "execution_count": null,
   "metadata": {},
   "outputs": [
    {
     "name": "stdout",
     "output_type": "stream",
     "text": [
      "gen: 1,\tbest of gen fitness: -72.301,\tbest of gen size: 17\n",
      "gen: 2,\tbest of gen fitness: -34.155,\tbest of gen size: 16\n",
      "gen: 3,\tbest of gen fitness: -67.388,\tbest of gen size: 16\n",
      "gen: 4,\tbest of gen fitness: -50.036,\tbest of gen size: 16\n",
      "gen: 5,\tbest of gen fitness: -27.086,\tbest of gen size: 28\n",
      "gen: 6,\tbest of gen fitness: -20.093,\tbest of gen size: 28\n",
      "gen: 7,\tbest of gen fitness: -8.528,\tbest of gen size: 28\n",
      "gen: 8,\tbest of gen fitness: 26.106,\tbest of gen size: 28\n",
      "gen: 9,\tbest of gen fitness: -6.829,\tbest of gen size: 28\n",
      "gen: 10,\tbest of gen fitness: -19.438,\tbest of gen size: 28\n",
      "gen: 11,\tbest of gen fitness: 30.091,\tbest of gen size: 30\n",
      "gen: 12,\tbest of gen fitness: -32.311,\tbest of gen size: 29\n",
      "gen: 13,\tbest of gen fitness: 39.075,\tbest of gen size: 28\n",
      "gen: 14,\tbest of gen fitness: -2.899,\tbest of gen size: 28\n",
      "gen: 15,\tbest of gen fitness: -29.717,\tbest of gen size: 28\n",
      "gen: 16,\tbest of gen fitness: -4.430,\tbest of gen size: 28\n",
      "gen: 17,\tbest of gen fitness: 18.356,\tbest of gen size: 28\n",
      "gen: 18,\tbest of gen fitness: 18.552,\tbest of gen size: 19\n",
      "gen: 19,\tbest of gen fitness: 7.607,\tbest of gen size: 15\n",
      "gen: 20,\tbest of gen fitness: 17.881,\tbest of gen size: 19\n",
      "gen: 21,\tbest of gen fitness: 0.313,\tbest of gen size: 19\n",
      "gen: 22,\tbest of gen fitness: -7.330,\tbest of gen size: 19\n",
      "gen: 23,\tbest of gen fitness: 20.343,\tbest of gen size: 28\n",
      "gen: 24,\tbest of gen fitness: 18.747,\tbest of gen size: 22\n",
      "gen: 25,\tbest of gen fitness: 4.676,\tbest of gen size: 19\n",
      "gen: 26,\tbest of gen fitness: 53.075,\tbest of gen size: 19\n",
      "gen: 27,\tbest of gen fitness: 21.564,\tbest of gen size: 19\n",
      "gen: 28,\tbest of gen fitness: 16.029,\tbest of gen size: 19\n",
      "gen: 29,\tbest of gen fitness: 19.246,\tbest of gen size: 19\n",
      "gen: 30,\tbest of gen fitness: -9.582,\tbest of gen size: 21\n",
      "gen: 31,\tbest of gen fitness: 6.025,\tbest of gen size: 19\n",
      "gen: 32,\tbest of gen fitness: 11.037,\tbest of gen size: 19\n",
      "gen: 33,\tbest of gen fitness: 3.250,\tbest of gen size: 15\n",
      "gen: 34,\tbest of gen fitness: -11.112,\tbest of gen size: 19\n",
      "gen: 35,\tbest of gen fitness: -11.836,\tbest of gen size: 15\n",
      "gen: 36,\tbest of gen fitness: 33.488,\tbest of gen size: 18\n",
      "gen: 37,\tbest of gen fitness: 64.465,\tbest of gen size: 15\n",
      "gen: 38,\tbest of gen fitness: 16.861,\tbest of gen size: 16\n",
      "gen: 39,\tbest of gen fitness: -6.944,\tbest of gen size: 15\n",
      "gen: 40,\tbest of gen fitness: 37.665,\tbest of gen size: 27\n",
      "gen: 1,\tbest of gen fitness: -101.769,\tbest of gen size: 13\n",
      "gen: 2,\tbest of gen fitness: -96.536,\tbest of gen size: 18\n",
      "gen: 3,\tbest of gen fitness: -87.651,\tbest of gen size: 19\n",
      "gen: 4,\tbest of gen fitness: -102.764,\tbest of gen size: 15\n",
      "gen: 5,\tbest of gen fitness: -91.568,\tbest of gen size: 23\n",
      "gen: 6,\tbest of gen fitness: -87.282,\tbest of gen size: 15\n",
      "gen: 7,\tbest of gen fitness: -104.813,\tbest of gen size: 20\n",
      "gen: 8,\tbest of gen fitness: -94.022,\tbest of gen size: 20\n"
     ]
    }
   ],
   "source": [
    "import pickle\n",
    "\n",
    "for i in range(num_experiments):\n",
    "    evo = Evolution(\n",
    "      fitness_function_pt, internal_nodes, leaf_nodes,\n",
    "      4,\n",
    "      pop_size=48,\n",
    "      max_gens=40,\n",
    "      max_tree_size=31,\n",
    "      coeff_opts = [{\"fun\":gaussian_coeff_mutation, \"rate\": 1}],\n",
    "      n_jobs=8,\n",
    "      verbose=True\n",
    "    )\n",
    "    \n",
    "    evo.evolve()\n",
    "\n",
    "    file_path = f'best_gp{i+1}.pickle'\n",
    "    # Open the file in binary mode\n",
    "    with open(file_path, 'wb') as file:\n",
    "        # Serialize and write the variable to the file\n",
    "        pickle.dump(evo.best_of_gens[-1], file)"
   ]
  },
  {
   "cell_type": "code",
   "execution_count": null,
   "metadata": {},
   "outputs": [],
   "source": [
    "# Save model\n",
    "# import pickle\n",
    "\n",
    "# file_path = 'best_gp.pickle'\n",
    "\n",
    "# # Open the file in binary mode\n",
    "# with open(file_path, 'wb') as file:\n",
    "#     # Serialize and write the variable to the file\n",
    "#     pickle.dump(evo.best_of_gens[-1], file)"
   ]
  },
  {
   "cell_type": "markdown",
   "metadata": {},
   "source": [
    "# Test"
   ]
  },
  {
   "cell_type": "code",
   "execution_count": null,
   "metadata": {},
   "outputs": [],
   "source": [
    "def get_test_score(tree):\n",
    "    rewards = []\n",
    "\n",
    "    for i in range(10):\n",
    "      # get initial state\n",
    "      observation = env.reset(seed=i)\n",
    "      observation = observation[0]\n",
    "\n",
    "      for _ in range(500):    \n",
    "        # build up the input sample for GP\n",
    "        input_sample = torch.from_numpy(observation.reshape((1,-1))).float()\n",
    "        # get output (squeezing because it is encapsulated in an array)\n",
    "        output = tree.get_output_pt(input_sample)\n",
    "        action = torch.argmax(tree.get_output_pt(input_sample))\n",
    "        observation, reward, terminated, truncated, info = env.step(action.item())\n",
    "        rewards.append(reward)\n",
    "\n",
    "\n",
    "        output_sample = torch.from_numpy(observation.reshape((1,-1))).float()\n",
    "        if (terminated or truncated):\n",
    "            break\n",
    "\n",
    "    fitness = np.sum(rewards)\n",
    "    \n",
    "    return fitness / 10\n",
    "\n",
    "for i in range(num_experiments):\n",
    "    print(f\"For model {i+1}: \\n\")\n",
    "    with open(f'best_gp{i+1}.pickle', 'rb') as input_file:\n",
    "        best = pickle.load(input_file)\n",
    "    print(best.get_readable_repr())\n",
    "    print(\"test score:\")\n",
    "    print(get_test_score(best))"
   ]
  },
  {
   "cell_type": "markdown",
   "metadata": {},
   "source": [
    "## Make an animation\n",
    "Here the best evolved individual is selected and one episode is rendered. Make sure to save your lunar landers over time to track progress and make comparisons."
   ]
  },
  {
   "cell_type": "code",
   "execution_count": null,
   "metadata": {},
   "outputs": [],
   "source": [
    "frames = []\n",
    "\n",
    "# gist to save gif from https://gist.github.com/botforge/64cbb71780e6208172bbf03cd9293553\n",
    "def save_frames_as_gif(frames, path='./', filename='evolved_lander.gif'):\n",
    "  plt.figure(figsize=(frames[0].shape[1] / 72.0, frames[0].shape[0] / 72.0), dpi=72)\n",
    "  patch = plt.imshow(frames[0])\n",
    "  plt.axis('off')\n",
    "  def animate(i):\n",
    "      patch.set_data(frames[i])\n",
    "  anim = animation.FuncAnimation(plt.gcf(), animate, frames = len(frames), interval=50)\n",
    "  anim.save(path + filename, writer='imagemagick', fps=60)\n",
    "\n",
    "frames = []\n",
    "fitness_function_pt(best, num_episodes=1, episode_duration=500, render=True, ignore_done=False)\n",
    "env.close()\n",
    "save_frames_as_gif(frames)"
   ]
  },
  {
   "cell_type": "markdown",
   "metadata": {},
   "source": [
    "## Play animation"
   ]
  },
  {
   "cell_type": "markdown",
   "metadata": {},
   "source": [
    "<img src=\"evolved_lander.gif\" width=\"750\">"
   ]
  },
  {
   "cell_type": "markdown",
   "metadata": {},
   "source": [
    "## Optimisation\n",
    "The coefficients in the multi-tree aren't optimised. Here Q-learning (taken from https://pytorch.org/tutorials/intermediate/reinforcement_q_learning.html) is used to optimise the weights further. Incorporate coefficient optimisation in training your agent(s). Coefficient Optimisation can be expensive. Think about how often you want to optimise, when, which individuals etc."
   ]
  },
  {
   "cell_type": "markdown",
   "metadata": {},
   "source": [
    "### Question 3\n",
    "\n",
    "Bring more elaborated ideas (also taking inspiration from the scientific literature) about how the provided GP library could be improved using coefficient optimisation. Optimisation can be expensive, so consider what individuals or what portion of the population should be optimised. Important: At this stage, each idea should be formalised into a motivating hypothesis (e.g., “Assuming that . . . happens, then we expect an improvement by doing . . . ”.\n"
   ]
  },
  {
   "cell_type": "code",
   "execution_count": 12,
   "metadata": {},
   "outputs": [
    {
     "name": "stdout",
     "output_type": "stream",
     "text": [
      "For model 1: \n",
      "\n",
      "['x_1', '(sqrt(abs(sqrt(abs(x_0))))*(sqrt(abs(sqrt(abs(x_2))))+(((((x_1*(x_4*x_4))-(x_0-x_3))/sqrt(abs((sqrt(abs(x_5))*x_2))))*x_6)+x_2)))', 'sqrt(abs((sqrt(abs(((((x_0+x_0)-x_5)+(x_5+sqrt(abs(x_0))))*x_3)))*x_3)))', '(((x_3+(x_6)**2)+(sqrt(abs(x_0))/(((x_6)**2)**2+x_2)))/(((x_4/x_5)*(x_2/x_6))-(x_6)**2))']\n",
      "-72.32330500435073\n",
      "For model 2: \n",
      "\n",
      "['(((sqrt(abs(x_1)))**2-((x_4-x_3))**2)-sqrt(abs((x_6/((x_7)**2-(((x_3-(sqrt(abs(x_1)))**2)-x_1))**2)))))', '((x_2+(x_3-x_2))*(sqrt(abs(x_1)))**2)', '(x_6/sqrt(abs(((((x_7+x_5)+((x_0/x_1)+sqrt(abs((sqrt(abs(((x_3+x_4))**2))/x_3)))))-sqrt(abs(sqrt(abs(sqrt(abs(sqrt(abs(x_6))))))))))**2)))', '(((11.709433555603027)**2+(((((sqrt(abs(sqrt(abs(-1.961763620376587))))-(x_0-x_7))*(sqrt(abs((x_6/x_3)))+(x_3/x_4)))-(x_6*(5.717799186706543)**2))*x_7)+x_7))/x_5)']\n",
      "39.280330654148216\n",
      "For model 3: \n",
      "\n",
      "['(x_2*(((x_4-x_1)+x_7)-(((x_4-x_1)+(x_2-(sqrt(abs((x_7*(x_3+x_6))))-x_7)))-sqrt(abs(((sqrt(abs(sqrt(abs(x_7)))))**2)**2)))))', '(((x_2+x_6)/sqrt(abs(((x_7*-1.9114292860031128)-(x_6+x_1)))))+(sqrt(abs(sqrt(abs(x_6))))-((((x_5/(sqrt(abs(sqrt(abs(x_6))))+x_2)))**2/x_5)-x_2)))', '(sqrt(abs(((sqrt(abs(((x_4)**2-x_3))))**2-x_3))))**2', 'sqrt(abs((((x_2-((x_6)**2/sqrt(abs(sqrt(abs(sqrt(abs(((x_5/(x_6)**2)-(((x_4/x_6)-(x_6+x_1)))**2)))))))))-x_1))**2))']\n",
      "50.78558742592382\n",
      "For model 4: \n",
      "\n",
      "['((((((x_1*x_0)*x_0)*x_0))**2*(((x_6/(x_5*x_3))+(sqrt(abs(x_3)))**2)+(x_7+-3.780757188796997)))*x_0)', '(((((x_4/(x_3*(x_2-x_3)))+((x_0)**2-(x_0*(x_2+x_0)))))**2+((x_1)**2*(x_0+x_2))))**2', 'sqrt(abs(sqrt(abs((((x_0*sqrt(abs((x_0/(sqrt(abs(x_1)))**2))))*x_2))**2))))', '(((((((((x_1)**2)**2)**2)**2+((x_3+x_7)/x_1))/sqrt(abs(((x_7)**2*x_4)))))**2/((x_7)**2*((x_7)**2*x_4)))/x_4)']\n",
      "37.47410304747025\n",
      "For model 5: \n",
      "\n",
      "['x_3', '(((((x_5+x_5)*x_6)*(x_7)**2)*(((x_5/x_4)/x_4)-x_7))-(x_0+(((x_5/x_4)/x_4)-x_7)))', '(((x_3-sqrt(abs((sqrt(abs(((x_4)**2/(x_4-((x_5*x_2)*x_2)))))-sqrt(abs(x_2))))))*sqrt(abs(x_5)))+(((x_4*0.8673115372657776))**2*(x_4*10.022760391235352)))', '(sqrt(abs((x_5-((((x_7-(x_6)**2)*x_4)/((x_4*5.267244815826416)/((x_1/x_0)-x_1))))**2)))/(((x_1)**2)**2/x_3))']\n",
      "-105.79231802466623\n",
      "For model 6: \n",
      "\n",
      "['((((x_5)**2-x_6)*(x_4-((x_5/sqrt(abs(x_5)))-(x_5/sqrt(abs(x_5))))))/sqrt(abs(x_0)))', '((((x_7/x_1)/(sqrt(abs((x_1*((x_1*sqrt(abs((x_0*x_7))))/nan))))/nan)))**2+x_1)', 'sqrt(abs((((x_5+((x_5+(x_1/x_1)))**2))**2*(((x_0+x_3))**2)**2)))', '((x_5/(((sqrt(abs((((x_2/(x_4)**2)*(((nan-x_1)+x_4))**2)-x_6)))+(sqrt(abs(x_6)))**2)*x_1))**2)/(x_1*(x_7)**2))']\n",
      "-658.2182325485134\n",
      "For model 7: \n",
      "\n",
      "['((sqrt(abs((x_1/x_3)))-(((x_6+x_0)/x_3)-x_5)))**2', '(((sqrt(abs(x_5))*x_6)*(sqrt(abs(((((x_5-x_7)*-3.9759275913238525))**2-((x_0-(sqrt(abs((x_5)**2)))**2))**2)))-(sqrt(abs(x_2))*x_4)))/(sqrt(abs(x_4))+x_1))', '(((x_2/x_5)-(x_3)**2)-((sqrt(abs((x_3*x_1)))-(x_7+x_2))+(((x_6-x_1)-sqrt(abs(x_7)))*(x_4-(x_7*x_3)))))', 'sqrt(abs((((((x_0-x_5))**2)**2/(sqrt(abs(x_0))-((x_5)**2-(((x_7-(x_7*(x_6+x_1))))**2*(x_7)**2))))+x_4)))']\n",
      "-106.4639076750032\n",
      "For model 8: \n",
      "\n",
      "['(((sqrt(abs((x_7-x_5)))-sqrt(abs(sqrt(abs(x_6)))))-((((4.672646522521973+(x_2)**2))**2*(x_1+x_5))-(((x_0*x_4))**2+sqrt(abs((x_6)**2))))))**2', '((sqrt(abs(x_2))+(((x_5+x_2)-(2.021190643310547)**2)*0.7530825138092041))+(((x_4)**2)**2*4.317056655883789))', '((((sqrt(abs(x_5))-((-7.777557849884033/x_2)*(x_3+((sqrt(abs(((x_4/x_0)-x_7)))/(sqrt(abs(x_1)))**2))**2)))/((x_0)**2-x_2))*((x_2/x_1))**2))**2', '((((sqrt(abs(x_4)))**2/x_1)+((x_7-sqrt(abs(((x_0*x_4)/(x_4)**2))))/((x_7-x_6)-x_6)))-x_6)']\n",
      "-146.99388871915852\n",
      "For model 9: \n",
      "\n",
      "['(x_3*(sqrt(abs(((((x_6+(x_0)**2))**2*(x_3/(nan-nan)))-sqrt(abs((x_7*(nan+x_1))))))))**2)', '((((sqrt(abs(x_2))*(x_2*((x_4+x_6)-(x_2+x_6))))-x_1)*((x_0+nan)/sqrt(abs(x_7))))/(x_4+(x_7)**2))', '(x_5/(x_3/sqrt(abs(x_6))))', '(sqrt(abs((sqrt(abs((x_1*nan)))-sqrt(abs((x_3)**2)))))-sqrt(abs((x_3)**2)))']\n",
      "-139.1950907531272\n",
      "For model 10: \n",
      "\n",
      "['(((((((x_5-x_5)-sqrt(abs(x_1)))/sqrt(abs(((x_2-x_5)-sqrt(abs(x_1)))))))**2/(x_1*sqrt(abs(x_0)))))**2/(x_1*(-12.941781044006348-x_2)))', '(x_0-sqrt(abs(((x_6*x_4)-((((sqrt(abs(x_0))-x_7)-x_7))**2-sqrt(abs((sqrt(abs(sqrt(abs(x_3))))-x_3))))))))', '((((x_5/x_5)+x_5)/((x_0-(x_0+(x_3*x_3)))*(x_3*x_3)))*(x_1)**2)', '((sqrt(abs(x_0))*((((sqrt(abs(x_0))*((x_5/x_6)-sqrt(abs(x_0))))-x_6)/x_6)-(x_5/x_6)))-sqrt(abs(sqrt(abs(((x_5+x_1)-sqrt(abs(x_3))))))))']\n",
      "92.25953675606253\n"
     ]
    }
   ],
   "source": [
    "batch_size = 128\n",
    "GAMMA = 0.99\n",
    "\n",
    "for i in range(num_experiments):\n",
    "    with open(f'best_gp{i+1}.pickle', 'rb') as input_file:\n",
    "        best = pickle.load(input_file)\n",
    "    constants = best.get_subtrees_consts()\n",
    "    \n",
    "    if len(constants)>0:\n",
    "      optimizer = optim.AdamW(constants, lr=1e-3, amsgrad=True)\n",
    "    \n",
    "    for _ in range(500):\n",
    "    \n",
    "      if len(constants)>0 and len(evo.memory)>batch_size:\n",
    "        target_tree = copy.deepcopy(best)\n",
    "    \n",
    "        transitions = evo.memory.sample(batch_size)\n",
    "        batch = Transition(*zip(*transitions))\n",
    "        \n",
    "        non_final_mask = torch.tensor(tuple(map(lambda s: s is not None,\n",
    "                                            batch.next_state)), dtype=torch.bool)\n",
    "    \n",
    "        non_final_next_states = torch.cat([s for s in batch.next_state\n",
    "                                                   if s is not None])\n",
    "        state_batch = torch.cat(batch.state)\n",
    "        action_batch = torch.cat(batch.action)\n",
    "        reward_batch = torch.cat(batch.reward)\n",
    "    \n",
    "        state_action_values = best.get_output_pt(state_batch).gather(1, action_batch)\n",
    "        next_state_values = torch.zeros(batch_size, dtype=torch.float)\n",
    "        with torch.no_grad():\n",
    "          next_state_values[non_final_mask] = target_tree.get_output_pt(non_final_next_states).max(1)[0].float()\n",
    "    \n",
    "        expected_state_action_values = (next_state_values * GAMMA) + reward_batch\n",
    "        \n",
    "        criterion = nn.SmoothL1Loss()\n",
    "        loss = criterion(state_action_values, expected_state_action_values.unsqueeze(1))\n",
    "       \n",
    "        # Optimize the model\n",
    "        optimizer.zero_grad()\n",
    "        loss.backward()\n",
    "        torch.nn.utils.clip_grad_value_(constants, 100)\n",
    "        optimizer.step()\n",
    "    print(f\"For model {i+1}: \\n\")\n",
    "    print(best.get_readable_repr())\n",
    "    print(get_test_score(best))\n",
    "    "
   ]
  },
  {
   "cell_type": "code",
   "execution_count": null,
   "metadata": {},
   "outputs": [],
   "source": [
    "batch_size = 128\n",
    "GAMMA = 0.99\n",
    "\n",
    "for i in range(num_experiments):\n",
    "    with open(f'best_gp{i+1}.pickle', 'rb') as input_file:\n",
    "        best = pickle.load(input_file)\n",
    "    constants = best.get_subtrees_consts()\n",
    "    \n",
    "    if len(constants)>0:\n",
    "      optimizer = optim.AdamW(constants, lr=1e-3, amsgrad=True)\n",
    "    \n",
    "    for _ in range(500):\n",
    "    \n",
    "      if len(constants)>0 and len(evo.memory)>batch_size:\n",
    "        target_tree = copy.deepcopy(best)\n",
    "    \n",
    "        transitions = evo.memory.sample(batch_size)\n",
    "        batch = Transition(*zip(*transitions))\n",
    "        \n",
    "        non_final_mask = torch.tensor(tuple(map(lambda s: s is not None,\n",
    "                                            batch.next_state)), dtype=torch.bool)\n",
    "    \n",
    "        non_final_next_states = torch.cat([s for s in batch.next_state\n",
    "                                                   if s is not None])\n",
    "        state_batch = torch.cat(batch.state)\n",
    "        action_batch = torch.cat(batch.action)\n",
    "        reward_batch = torch.cat(batch.reward)\n",
    "    \n",
    "        state_action_values = best.get_output_pt(state_batch).gather(1, action_batch)\n",
    "        next_state_values = torch.zeros(batch_size, dtype=torch.float)\n",
    "        with torch.no_grad():\n",
    "          next_state_values[non_final_mask] = target_tree.get_output_pt(non_final_next_states).max(1)[0].float()\n",
    "    \n",
    "        expected_state_action_values = (next_state_values * GAMMA) + reward_batch\n",
    "        \n",
    "        criterion = nn.SmoothL1Loss()\n",
    "        loss = criterion(state_action_values, expected_state_action_values.unsqueeze(1))\n",
    "       \n",
    "        # Optimize the model\n",
    "        optimizer.zero_grad()\n",
    "        loss.backward()\n",
    "        torch.nn.utils.clip_grad_value_(constants, 100)\n",
    "        optimizer.step()\n",
    "    print(f\"For model {i+1}: \\n\")\n",
    "    print(best.get_readable_repr())\n",
    "    print(get_test_score(best))\n",
    "    "
   ]
  },
  {
   "cell_type": "code",
   "execution_count": null,
   "metadata": {},
   "outputs": [],
   "source": [
    "frames = []\n",
    "fitness_function_pt(best, num_episodes=1, episode_duration=500, render=True, ignore_done=False)\n",
    "env.close()\n",
    "save_frames_as_gif(frames, filename='evolved_lander_RL.gif')"
   ]
  },
  {
   "cell_type": "markdown",
   "metadata": {},
   "source": [
    "<img src=\"evolved_lander_RL.gif\" width=\"750\">"
   ]
  },
  {
   "cell_type": "code",
   "execution_count": null,
   "metadata": {},
   "outputs": [],
   "source": []
  },
  {
   "cell_type": "code",
   "execution_count": null,
   "metadata": {},
   "outputs": [],
   "source": []
  }
 ],
 "metadata": {
  "kernelspec": {
   "display_name": "Python 3 (ipykernel)",
   "language": "python",
   "name": "python3"
  },
  "language_info": {
   "codemirror_mode": {
    "name": "ipython",
    "version": 3
   },
   "file_extension": ".py",
   "mimetype": "text/x-python",
   "name": "python",
   "nbconvert_exporter": "python",
   "pygments_lexer": "ipython3",
   "version": "3.8.10"
  }
 },
 "nbformat": 4,
 "nbformat_minor": 4
}
