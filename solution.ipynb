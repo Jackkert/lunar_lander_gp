{
  "cells": [
    {
      "cell_type": "markdown",
      "metadata": {
        "id": "7qE_Q3-QZiRT"
      },
      "source": [
        "# Evolving a Lunar Lander with differentiable Genetic Programming"
      ]
    },
    {
      "cell_type": "markdown",
      "metadata": {
        "id": "q46TEZ5DZiRY"
      },
      "source": [
        "## Installation\n",
        "To install the required libraries run the command:"
      ]
    },
    {
      "cell_type": "code",
      "source": [
        "# Requirements"
      ],
      "metadata": {
        "id": "F2YS6dvBVjPs"
      },
      "execution_count": null,
      "outputs": []
    },
    {
      "cell_type": "markdown",
      "metadata": {
        "id": "3OsGF_zJZiRb"
      },
      "source": [
        "## Imports\n",
        "Imports from the standard genepro-multi library are done here. Any adjustments (e.g. different operators) should be made in the notebook. For example:\n",
        "\n",
        "```\n",
        "class SmoothOperator(Node):\n",
        "  def __init__(self):\n",
        "    super(SmoothOperator,self).__init__()\n",
        "    self.arity = 1\n",
        "    self.symb = \"SmoothOperator\"\n",
        "\n",
        "  def _get_args_repr(self, args):\n",
        "    return self._get_typical_repr(args,'before')\n",
        "\n",
        "  def get_output(self, X):\n",
        "    c_outs = self._get_child_outputs(X)\n",
        "    return np.smoothOperation(c_outs[0])\n",
        "\n",
        "  def get_output_pt(self, X):\n",
        "    c_outs = self._get_child_outputs_pt(X)\n",
        "    return torch.smoothOperation(c_outs[0])\n",
        "```"
      ]
    },
    {
      "cell_type": "code",
      "execution_count": null,
      "metadata": {
        "id": "g6tBzzDeZiRc"
      },
      "outputs": [],
      "source": [
        "import gymnasium as gym\n",
        "\n",
        "from genepro.node_impl import *\n",
        "from genepro.evo import Evolution\n",
        "from genepro.node_impl import Constant\n",
        "from genepro.variation import *\n",
        "import torch\n",
        "import torch.optim as optim\n",
        "\n",
        "import random\n",
        "import os\n",
        "import copy\n",
        "from collections import namedtuple, deque\n",
        "\n",
        "import matplotlib.pyplot as plt\n",
        "from matplotlib import animation"
      ]
    },
    {
      "cell_type": "markdown",
      "metadata": {
        "id": "dkcGmakoZiRd"
      },
      "source": [
        "## Reinforcement Learning Setup\n",
        "Here we first setup the Gymnasium environment. Please see https://gymnasium.farama.org/environments/box2d/lunar_lander/ for more information on the environment.\n",
        "\n",
        "Then a memory buffer is made. This is a buffer in which state transitions are stored. When the buffer reaches its maximum capacity old transitions are replaced by new ones.\n",
        "\n",
        "A frame buffer is initialised used to later store animation frames of the environment."
      ]
    },
    {
      "cell_type": "code",
      "execution_count": null,
      "metadata": {
        "id": "hEEySCVOZiRd"
      },
      "outputs": [],
      "source": [
        "env = gym.make(\"LunarLander-v2\", render_mode=\"rgb_array\")"
      ]
    },
    {
      "cell_type": "code",
      "execution_count": null,
      "metadata": {
        "id": "rcGThZnaZiRd"
      },
      "outputs": [],
      "source": [
        "Transition = namedtuple('Transition', ('state', 'action', 'next_state', 'reward'))\n",
        "\n",
        "class ReplayMemory(object):\n",
        "    def __init__(self, capacity):\n",
        "        self.memory = deque([], maxlen=capacity)\n",
        "\n",
        "    def push(self, *args):\n",
        "        \"\"\"Save a transition\"\"\"\n",
        "        self.memory.append(Transition(*args))\n",
        "\n",
        "    def sample(self, batch_size):\n",
        "        return random.sample(self.memory, batch_size)\n",
        "\n",
        "    def __len__(self):\n",
        "        return len(self.memory)\n",
        "\n",
        "    def __iadd__(self, other):\n",
        "      self.memory += other.memory\n",
        "      return self\n",
        "\n",
        "    def __add__(self, other):\n",
        "      self.memory = self.memory + other.memory\n",
        "      return self"
      ]
    },
    {
      "cell_type": "code",
      "execution_count": null,
      "metadata": {
        "id": "u5kNAX1vZiRf"
      },
      "outputs": [],
      "source": [
        "frames = []"
      ]
    },
    {
      "cell_type": "markdown",
      "metadata": {
        "id": "MXdljp04ZiRg"
      },
      "source": [
        "## Fitness Function\n",
        "\n",
        "Here you get to be creative. The default setup evaluates 5 episodes of 300 frames. Think of what action to pick and what fitness function to use. The Multi-tree takes an input of $n \\times d$ where $n$ is a batch of size 1."
      ]
    },
    {
      "cell_type": "code",
      "execution_count": null,
      "metadata": {
        "id": "7ceYe_FGZiRh"
      },
      "outputs": [],
      "source": [
        "def fitness_function_pt(multitree, num_episodes=5, episode_duration=300, render=False, ignore_done=False):\n",
        "  memory = ReplayMemory(10000)\n",
        "  rewards = []\n",
        "\n",
        "  for _ in range(num_episodes):\n",
        "    # get initial state of the environment\n",
        "    observation = env.reset()\n",
        "    observation = observation[0]\n",
        "\n",
        "    for _ in range(episode_duration):\n",
        "      if render:\n",
        "        frames.append(env.render())\n",
        "\n",
        "      input_sample = torch.from_numpy(observation.reshape((1,-1))).float()\n",
        "\n",
        "      action = torch.argmax(multitree.get_output_pt(input_sample))\n",
        "      observation, reward, terminated, truncated, info = env.step(action.item())\n",
        "      rewards.append(reward)\n",
        "      output_sample = torch.from_numpy(observation.reshape((1,-1))).float()\n",
        "      memory.push(input_sample, torch.tensor([[action.item()]]), output_sample, torch.tensor([reward]))\n",
        "      if (terminated or truncated) and not ignore_done:\n",
        "        break\n",
        "\n",
        "  fitness = np.sum(rewards) / num_episodes\n",
        "\n",
        "  return fitness, memory"
      ]
    },
    {
      "cell_type": "code",
      "source": [
        "import numpy as np\n",
        "\n",
        "def get_node_by_index(tree, index):\n",
        "    count = 0\n",
        "    queue = [tree]\n",
        "    while queue:\n",
        "        node = queue.pop(0)\n",
        "        if count == index:\n",
        "            return node\n",
        "        count += 1\n",
        "        queue.extend(node._children)\n",
        "    raise IndexError(\"Index out of bounds\")\n",
        "\n",
        "def get_subtree_from(tree, node_index):\n",
        "    subtree = []\n",
        "    queue = [get_node_by_index(tree, node_index)]\n",
        "    while queue:\n",
        "        node = queue.pop(0)\n",
        "        subtree.append(node)\n",
        "        queue.extend(node._children)\n",
        "    return subtree\n",
        "\n",
        "def size_fair_crossover(multitree: Multitree, multidonor: Multitree, prop_swap: float = 0.5) -> Multitree:\n",
        "    \"\"\"\n",
        "    Performs size-fair crossover and returns the resulting offspring\n",
        "\n",
        "    Parameters\n",
        "    ----------\n",
        "    multitree : Multitree\n",
        "        the multitree that participates and is modified by crossover\n",
        "    multidonor : Multitree\n",
        "        the second multitree that participates in crossover, it provides candidate subtrees\n",
        "    prop_swap : float, optional\n",
        "        the proportion of nodes to swap (default is 0.5)\n",
        "\n",
        "    Returns\n",
        "    -------\n",
        "    Multitree\n",
        "        the multitree after crossover (warning: replace the original multitree with the returned one to avoid undefined behavior)\n",
        "    \"\"\"\n",
        "    # Pick a tree to modify and a tree to donate from\n",
        "    r1 = np.random.randint(multitree.n_trees)\n",
        "    r2 = np.random.randint(multidonor.n_trees)\n",
        "    tree1 = multitree.children[r1]\n",
        "    tree2 = multidonor.children[r2]\n",
        "\n",
        "    # Calculate the total number of nodes in each tree\n",
        "    num_nodes1 = len(tree1.get_subtree())\n",
        "    num_nodes2 = len(tree2.get_subtree())\n",
        "\n",
        "    # Choose a crossover point in each tree, proportional to the number of nodes\n",
        "    cp1 = np.random.randint(num_nodes1)\n",
        "    cp2 = np.random.randint(num_nodes2)\n",
        "    n1 = get_node_by_index(tree1, cp1)\n",
        "    n2 = get_node_by_index(tree2, cp2)\n",
        "\n",
        "    # Calculate the number of nodes to swap\n",
        "    num_swap = int(prop_swap * min(num_nodes1 - cp1 - 1, num_nodes2 - cp2 - 1)) + 1\n",
        "\n",
        "    # Get the subtrees rooted at the chosen crossover points\n",
        "    subtree1 = get_subtree_from(tree1, cp1)[:num_swap]\n",
        "    subtree2 = get_subtree_from(tree2, cp2)[:num_swap]\n",
        "\n",
        "    # Swap the subtrees rooted at the chosen crossover points\n",
        "    p1 = n1.parent\n",
        "    p2 = n2.parent\n",
        "\n",
        "    if p1:\n",
        "        i1 = p1.detach_child(n1)\n",
        "        p1.insert_child(n2, i1)\n",
        "    else:\n",
        "        multitree.children[r1] = n2\n",
        "    for c in subtree2[1:]:\n",
        "        n2.insert_child(c)\n",
        "\n",
        "    if p2:\n",
        "        i2 = p2.detach_child(n2)\n",
        "        p2.insert_child(n1, i2)\n",
        "    else:\n",
        "        multidonor.children[r2] = n1\n",
        "    for c in subtree1[1:]:\n",
        "        n1.insert_child(c)\n",
        "\n",
        "    return multitree\n"
      ],
      "metadata": {
        "id": "S75N3MbnHVln"
      },
      "execution_count": null,
      "outputs": []
    },
    {
      "cell_type": "markdown",
      "metadata": {
        "id": "_IlvFE25ZiRh"
      },
      "source": [
        "## Evolution Setup\n",
        "Here the leaf and internal nodes are defined. Think about the odds of sampling a constant in this default configurations. Also think about any operators that could be useful and add them here.\n",
        "\n",
        "Adjust the population size (multiple of 8 if you want to use the standard tournament selection), max generations and max tree size to taste. Be aware that each of these settings can increase the runtime."
      ]
    },
    {
      "cell_type": "code",
      "execution_count": null,
      "metadata": {
        "id": "OPQxLALoZiRh"
      },
      "outputs": [],
      "source": [
        "num_features = env.observation_space.shape[0]\n",
        "leaf_nodes = [Feature(i) for i in range(num_features)]\n",
        "leaf_nodes = leaf_nodes + [Constant()] # Think about the probability of sampling a coefficient\n",
        "internal_nodes = [Plus(),Minus(),Times(),Div(),Square(),Sqrt()] #Add your own operators here\n",
        "\n",
        "\n",
        "evo = Evolution(\n",
        "  fitness_function_pt, internal_nodes, leaf_nodes,\n",
        "  4,\n",
        "  pop_size=32,\n",
        "  max_gens=20,\n",
        "  max_tree_size=31,\n",
        "  crossovers=[{\"fun\": size_fair_crossover, \"rate\": 0.5}],\n",
        "  mutations=[{\"fun\": subtree_mutation, \"rate\": 0.01}],\n",
        "  n_jobs=8,\n",
        "  verbose=True\n",
        ")\n",
        "\n"
      ]
    },
    {
      "cell_type": "markdown",
      "metadata": {
        "id": "A9AIyqCiZiRh"
      },
      "source": [
        "## Evolve\n",
        "Running this cell will use all the settings above as parameters"
      ]
    },
    {
      "cell_type": "code",
      "execution_count": null,
      "metadata": {
        "colab": {
          "base_uri": "https://localhost:8080/"
        },
        "id": "WUeTH43iZiRi",
        "outputId": "64b0e58e-1044-4468-b137-bd8ef864c9d3"
      },
      "outputs": [
        {
          "output_type": "stream",
          "name": "stdout",
          "text": [
            "gen: 1,\tbest of gen fitness: -100.037,\tbest of gen size: 16\n",
            "gen: 2,\tbest of gen fitness: -84.446,\tbest of gen size: 12\n",
            "gen: 3,\tbest of gen fitness: -89.272,\tbest of gen size: 12\n",
            "gen: 4,\tbest of gen fitness: -106.125,\tbest of gen size: 12\n",
            "gen: 5,\tbest of gen fitness: -72.643,\tbest of gen size: 12\n",
            "gen: 6,\tbest of gen fitness: -75.158,\tbest of gen size: 11\n",
            "gen: 7,\tbest of gen fitness: -81.327,\tbest of gen size: 11\n",
            "gen: 8,\tbest of gen fitness: -51.133,\tbest of gen size: 16\n",
            "gen: 9,\tbest of gen fitness: -49.903,\tbest of gen size: 22\n",
            "gen: 10,\tbest of gen fitness: -49.551,\tbest of gen size: 21\n",
            "gen: 11,\tbest of gen fitness: -49.450,\tbest of gen size: 21\n",
            "gen: 12,\tbest of gen fitness: -47.685,\tbest of gen size: 22\n",
            "gen: 13,\tbest of gen fitness: -56.985,\tbest of gen size: 22\n",
            "gen: 14,\tbest of gen fitness: -20.845,\tbest of gen size: 22\n",
            "gen: 15,\tbest of gen fitness: -65.794,\tbest of gen size: 22\n",
            "gen: 16,\tbest of gen fitness: -60.545,\tbest of gen size: 22\n",
            "gen: 17,\tbest of gen fitness: -42.812,\tbest of gen size: 22\n",
            "gen: 18,\tbest of gen fitness: -40.490,\tbest of gen size: 22\n",
            "gen: 19,\tbest of gen fitness: -60.019,\tbest of gen size: 22\n",
            "gen: 20,\tbest of gen fitness: -35.880,\tbest of gen size: 22\n"
          ]
        }
      ],
      "source": [
        "evo.evolve()"
      ]
    },
    {
      "cell_type": "markdown",
      "metadata": {
        "id": "MxY9E-XaZiRi"
      },
      "source": [
        "# Test"
      ]
    },
    {
      "cell_type": "code",
      "execution_count": null,
      "metadata": {
        "colab": {
          "background_save": true
        },
        "id": "e1LmXlnKZiRi"
      },
      "outputs": [],
      "source": [
        "def get_test_score(tree):\n",
        "    rewards = []\n",
        "\n",
        "    for i in range(10):\n",
        "      # get initial state\n",
        "      observation = env.reset(seed=i)\n",
        "      observation = observation[0]\n",
        "\n",
        "      for _ in range(500):\n",
        "        # build up the input sample for GP\n",
        "        input_sample = torch.from_numpy(observation.reshape((1,-1))).float()\n",
        "        # get output (squeezing because it is encapsulated in an array)\n",
        "        output = tree.get_output_pt(input_sample)\n",
        "        action = # What goes here?\n",
        "        observation, reward, terminated, truncated, info = env.step(action.item())\n",
        "        rewards.append(reward)\n",
        "\n",
        "\n",
        "        output_sample = torch.from_numpy(observation.reshape((1,-1))).float()\n",
        "        if (terminated or truncated):\n",
        "            break\n",
        "\n",
        "    fitness = np.sum(rewards)\n",
        "\n",
        "    return fitness\n",
        "\n",
        "best = evo.best_of_gens[-1]\n",
        "\n",
        "print(best.get_readable_repr())\n",
        "print(get_test_score(best))"
      ]
    },
    {
      "cell_type": "markdown",
      "metadata": {
        "id": "NgcCclzfZiRj"
      },
      "source": [
        "## Make an animation\n",
        "Here the best evolved individual is selected and one episode is rendered. Make sure to save your lunar landers over time to track progress and make comparisons."
      ]
    },
    {
      "cell_type": "code",
      "execution_count": null,
      "metadata": {
        "colab": {
          "background_save": true
        },
        "id": "Um2nf7aaZiRk"
      },
      "outputs": [],
      "source": [
        "frames = []\n",
        "\n",
        "# gist to save gif from https://gist.github.com/botforge/64cbb71780e6208172bbf03cd9293553\n",
        "def save_frames_as_gif(frames, path='./', filename='evolved_lander.gif'):\n",
        "  plt.figure(figsize=(frames[0].shape[1] / 72.0, frames[0].shape[0] / 72.0), dpi=72)\n",
        "  patch = plt.imshow(frames[0])\n",
        "  plt.axis('off')\n",
        "  def animate(i):\n",
        "      patch.set_data(frames[i])\n",
        "  anim = animation.FuncAnimation(plt.gcf(), animate, frames = len(frames), interval=50)\n",
        "  anim.save(path + filename, writer='imagemagick', fps=60)\n",
        "\n",
        "frames = []\n",
        "fitness_function_pt(best, num_episodes=1, episode_duration=500, render=True, ignore_done=False)\n",
        "env.close()\n",
        "save_frames_as_gif(frames)"
      ]
    },
    {
      "cell_type": "markdown",
      "metadata": {
        "id": "7z7P4LM-ZiRk"
      },
      "source": [
        "## Play animation"
      ]
    },
    {
      "cell_type": "markdown",
      "metadata": {
        "id": "1YimeVakZiRl"
      },
      "source": [
        "<img src=\"evolved_lander.gif\" width=\"750\">"
      ]
    },
    {
      "cell_type": "markdown",
      "metadata": {
        "id": "RX0y6w7gZiRl"
      },
      "source": [
        "## Optimisation\n",
        "The coefficients in the multi-tree aren't optimised. Here Q-learning (taken from https://pytorch.org/tutorials/intermediate/reinforcement_q_learning.html) is used to optimise the weights further. Incorporate coefficient optimisation in training your agent(s). Coefficient Optimisation can be expensive. Think about how often you want to optimise, when, which individuals etc."
      ]
    },
    {
      "cell_type": "code",
      "execution_count": null,
      "metadata": {
        "colab": {
          "background_save": true
        },
        "id": "YKa5cs-IZiRl"
      },
      "outputs": [],
      "source": [
        "batch_size = 128\n",
        "GAMMA = 0.99\n",
        "\n",
        "constants = best.get_subtrees_consts()\n",
        "\n",
        "if len(constants)>0:\n",
        "  optimizer = optim.AdamW(constants, lr=1e-3, amsgrad=True)\n",
        "\n",
        "for _ in range(500):\n",
        "\n",
        "  if len(constants)>0 and len(evo.memory)>batch_size:\n",
        "    target_tree = copy.deepcopy(best)\n",
        "\n",
        "    transitions = evo.memory.sample(batch_size)\n",
        "    batch = Transition(*zip(*transitions))\n",
        "\n",
        "    non_final_mask = torch.tensor(tuple(map(lambda s: s is not None,\n",
        "                                        batch.next_state)), dtype=torch.bool)\n",
        "\n",
        "    non_final_next_states = torch.cat([s for s in batch.next_state\n",
        "                                               if s is not None])\n",
        "    state_batch = torch.cat(batch.state)\n",
        "    action_batch = torch.cat(batch.action)\n",
        "    reward_batch = torch.cat(batch.reward)\n",
        "\n",
        "    state_action_values = best.get_output_pt(state_batch).gather(1, action_batch)\n",
        "    next_state_values = torch.zeros(batch_size, dtype=torch.float)\n",
        "    with torch.no_grad():\n",
        "      next_state_values[non_final_mask] = target_tree.get_output_pt(non_final_next_states).max(1)[0].float()\n",
        "\n",
        "    expected_state_action_values = (next_state_values * GAMMA) + reward_batch\n",
        "\n",
        "    criterion = nn.SmoothL1Loss()\n",
        "    loss = criterion(state_action_values, expected_state_action_values.unsqueeze(1))\n",
        "\n",
        "    # Optimize the model\n",
        "    optimizer.zero_grad()\n",
        "    loss.backward()\n",
        "    torch.nn.utils.clip_grad_value_(constants, 100)\n",
        "    optimizer.step()\n",
        "\n",
        "print(best.get_readable_repr())\n",
        "print(get_test_score(best))"
      ]
    },
    {
      "cell_type": "code",
      "execution_count": null,
      "metadata": {
        "colab": {
          "background_save": true
        },
        "id": "XqHtUnPZZiRm"
      },
      "outputs": [],
      "source": [
        "frames = []\n",
        "fitness_function_pt(best, num_episodes=1, episode_duration=500, render=True, ignore_done=False)\n",
        "env.close()\n",
        "save_frames_as_gif(frames, filename='evolved_lander_RL.gif')"
      ]
    },
    {
      "cell_type": "markdown",
      "metadata": {
        "id": "jk5nVmXUZiRn"
      },
      "source": [
        "<img src=\"evolved_lander_RL.gif\" width=\"750\">"
      ]
    },
    {
      "cell_type": "code",
      "execution_count": null,
      "metadata": {
        "colab": {
          "background_save": true
        },
        "id": "id_0WuseZiRn"
      },
      "outputs": [],
      "source": []
    },
    {
      "cell_type": "code",
      "execution_count": null,
      "metadata": {
        "colab": {
          "background_save": true
        },
        "id": "U02AeBYNZiRn"
      },
      "outputs": [],
      "source": []
    }
  ],
  "metadata": {
    "colab": {
      "provenance": []
    },
    "kernelspec": {
      "display_name": "Python 3",
      "name": "python3"
    },
    "language_info": {
      "codemirror_mode": {
        "name": "ipython",
        "version": 3
      },
      "file_extension": ".py",
      "mimetype": "text/x-python",
      "name": "python",
      "nbconvert_exporter": "python",
      "pygments_lexer": "ipython3",
      "version": "3.8.5"
    }
  },
  "nbformat": 4,
  "nbformat_minor": 0
}